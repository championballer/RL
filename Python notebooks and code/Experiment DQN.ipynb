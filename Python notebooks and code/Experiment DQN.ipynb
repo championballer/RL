{
 "cells": [
  {
   "cell_type": "code",
   "execution_count": 30,
   "metadata": {},
   "outputs": [],
   "source": [
    "import gym\n",
    "import torch\n",
    "import torch.nn as nn\n",
    "import torch.nn.functional as F\n",
    "import numpy as np"
   ]
  },
  {
   "cell_type": "code",
   "execution_count": 31,
   "metadata": {},
   "outputs": [],
   "source": [
    "class Network(nn.Module):\n",
    "    \n",
    "    def __init__(self,input_size,hidden_layers,output_size,drop_p=0.5):\n",
    "        super().__init__()\n",
    "        \n",
    "        self.hidden_layers = nn.ModuleList([nn.Linear(input_size,hidden_layers[0])])\n",
    "        self.hidden_layers.extend([nn.Linear(h1,h2) for h1,h2 in zip(hidden_layers[:-1],hidden_layers[1:])])\n",
    "        self.output = nn.Linear(hidden_layers[-1],output_size)\n",
    "        \n",
    "        self.dropout = nn.Dropout(p=drop_p)\n",
    "        \n",
    "    def forward(self,x):\n",
    "        \n",
    "        for linear in self.hidden_layers:\n",
    "            x = F.relu(linear(x))\n",
    "            x = self.dropout(x)\n",
    "            \n",
    "        x = self.output(x)\n",
    "        \n",
    "        return x\n",
    "        "
   ]
  },
  {
   "cell_type": "code",
   "execution_count": 32,
   "metadata": {},
   "outputs": [
    {
     "data": {
      "text/plain": [
       "Network(\n",
       "  (hidden_layers): ModuleList(\n",
       "    (0): Linear(in_features=8, out_features=64, bias=True)\n",
       "    (1): Linear(in_features=64, out_features=64, bias=True)\n",
       "  )\n",
       "  (output): Linear(in_features=64, out_features=4, bias=True)\n",
       "  (dropout): Dropout(p=0.5)\n",
       ")"
      ]
     },
     "execution_count": 32,
     "metadata": {},
     "output_type": "execute_result"
    }
   ],
   "source": [
    "input_size = 8\n",
    "hidden_layers = [64,64]\n",
    "output_size = 4\n",
    "\n",
    "model = Network(input_size,hidden_layers,output_size)\n",
    "model"
   ]
  },
  {
   "cell_type": "code",
   "execution_count": 33,
   "metadata": {},
   "outputs": [
    {
     "name": "stdout",
     "output_type": "stream",
     "text": [
      "\u001b[33mWARN: gym.spaces.Box autodetected dtype as <class 'numpy.float32'>. Please provide explicit dtype.\u001b[0m\n"
     ]
    },
    {
     "data": {
      "text/plain": [
       "[0]"
      ]
     },
     "execution_count": 33,
     "metadata": {},
     "output_type": "execute_result"
    }
   ],
   "source": [
    "env = gym.make('LunarLander-v2')\n",
    "env.seed(0)"
   ]
  },
  {
   "cell_type": "code",
   "execution_count": 34,
   "metadata": {},
   "outputs": [
    {
     "data": {
      "text/plain": [
       "tensor([[0.4069, 0.9438, 0.5586, 0.5887, 0.6077, 0.2465, 0.5846, 0.8088]])"
      ]
     },
     "execution_count": 34,
     "metadata": {},
     "output_type": "execute_result"
    }
   ],
   "source": [
    "state = torch.rand(1,8);state"
   ]
  },
  {
   "cell_type": "code",
   "execution_count": 35,
   "metadata": {},
   "outputs": [
    {
     "data": {
      "text/plain": [
       "tensor([[0.9294, 0.9455, 1.0565, 0.8958]], grad_fn=<ExpBackward>)"
      ]
     },
     "execution_count": 35,
     "metadata": {},
     "output_type": "execute_result"
    }
   ],
   "source": [
    "ps = model.forward(state);torch.exp(ps)"
   ]
  },
  {
   "cell_type": "code",
   "execution_count": 36,
   "metadata": {},
   "outputs": [
    {
     "data": {
      "text/plain": [
       "tensor([[-5.9156e-04,  9.4230e-01, -5.9936e-02,  1.1277e-01,  6.9229e-04,\n",
       "          1.3576e-02,  0.0000e+00,  0.0000e+00]])"
      ]
     },
     "execution_count": 36,
     "metadata": {},
     "output_type": "execute_result"
    }
   ],
   "source": [
    "state_alt = env.reset()\n",
    "state_alt = torch.from_numpy(state_alt).float().unsqueeze(0)\n",
    "\n",
    "state_alt"
   ]
  },
  {
   "cell_type": "code",
   "execution_count": 37,
   "metadata": {},
   "outputs": [
    {
     "data": {
      "text/plain": [
       "tensor([[-0.0838, -0.1902, -0.1937, -0.2508]], grad_fn=<AddmmBackward>)"
      ]
     },
     "execution_count": 37,
     "metadata": {},
     "output_type": "execute_result"
    }
   ],
   "source": [
    "model.forward(state_alt)"
   ]
  },
  {
   "cell_type": "code",
   "execution_count": 38,
   "metadata": {},
   "outputs": [
    {
     "data": {
      "text/plain": [
       "tensor([[[ 1.1835e-04,  9.3636e-01,  1.1968e-02, -2.8384e-01, -1.3030e-04,\n",
       "          -2.7110e-03,  0.0000e+00,  0.0000e+00],\n",
       "         [ 7.5161e-03,  9.3632e-01,  7.6127e-01, -2.8623e-01, -8.7023e-03,\n",
       "          -1.7244e-01,  0.0000e+00,  0.0000e+00],\n",
       "         [ 5.9081e-03,  9.3416e-01,  5.9841e-01, -4.2994e-01, -6.8392e-03,\n",
       "          -1.3555e-01,  0.0000e+00,  0.0000e+00],\n",
       "         [-3.0343e-03,  9.4824e-01, -3.0736e-01,  5.0837e-01,  3.5228e-03,\n",
       "           6.9622e-02,  0.0000e+00,  0.0000e+00],\n",
       "         [-4.9807e-03,  9.3840e-01, -5.0451e-01, -1.4785e-01,  5.7782e-03,\n",
       "           1.1428e-01,  0.0000e+00,  0.0000e+00],\n",
       "         [-4.0418e-03,  9.4787e-01, -4.0939e-01,  4.8377e-01,  4.6900e-03,\n",
       "           9.2733e-02,  0.0000e+00,  0.0000e+00],\n",
       "         [ 4.2742e-03,  9.4790e-01,  4.3291e-01,  4.8599e-01, -4.9459e-03,\n",
       "          -9.8060e-02,  0.0000e+00,  0.0000e+00],\n",
       "         [ 2.7787e-03,  9.4285e-01,  2.8143e-01,  1.4907e-01, -3.2129e-03,\n",
       "          -6.3747e-02,  0.0000e+00,  0.0000e+00],\n",
       "         [ 3.7238e-03,  9.4131e-01,  3.7717e-01,  4.6237e-02, -4.3082e-03,\n",
       "          -8.5435e-02,  0.0000e+00,  0.0000e+00],\n",
       "         [ 7.9437e-03,  9.4369e-01,  8.0460e-01,  2.0476e-01, -9.1980e-03,\n",
       "          -1.8225e-01,  0.0000e+00,  0.0000e+00]]])"
      ]
     },
     "execution_count": 38,
     "metadata": {},
     "output_type": "execute_result"
    }
   ],
   "source": [
    "states = []\n",
    "for i in range(10):\n",
    "    states.append(env.reset())\n",
    "\n",
    "states = np.array(states)\n",
    "states = torch.from_numpy(states).float().unsqueeze(0)\n",
    "states"
   ]
  },
  {
   "cell_type": "code",
   "execution_count": 61,
   "metadata": {},
   "outputs": [
    {
     "data": {
      "text/plain": [
       "tensor([[[-0.0688,  0.0126, -0.1291, -0.0143],\n",
       "         [ 0.0522, -0.0377,  0.0605, -0.1899],\n",
       "         [ 0.1343,  0.1069, -0.0826, -0.1410],\n",
       "         [ 0.1208, -0.0482, -0.0901, -0.2191],\n",
       "         [-0.0258, -0.1528, -0.1446, -0.2101],\n",
       "         [ 0.0803, -0.0123, -0.1398, -0.1197],\n",
       "         [-0.1032,  0.0105,  0.0314, -0.1599],\n",
       "         [-0.0590, -0.0328, -0.0761, -0.2169],\n",
       "         [ 0.0846, -0.1463, -0.0779, -0.2145],\n",
       "         [ 0.0371,  0.0918,  0.0176, -0.0718]]], grad_fn=<AddBackward0>)"
      ]
     },
     "execution_count": 61,
     "metadata": {},
     "output_type": "execute_result"
    }
   ],
   "source": [
    "output = model.forward(states)\n",
    "output"
   ]
  },
  {
   "cell_type": "code",
   "execution_count": 82,
   "metadata": {},
   "outputs": [
    {
     "data": {
      "text/plain": [
       "torch.int64"
      ]
     },
     "execution_count": 82,
     "metadata": {},
     "output_type": "execute_result"
    }
   ],
   "source": [
    "max_actions = output.detach().max(2)[1]; max_actions.size()\n",
    "max_actions.resize_(10,1)\n",
    "\n",
    "max_actions.dtype"
   ]
  },
  {
   "cell_type": "code",
   "execution_count": 73,
   "metadata": {},
   "outputs": [
    {
     "data": {
      "text/plain": [
       "torch.float32"
      ]
     },
     "execution_count": 73,
     "metadata": {},
     "output_type": "execute_result"
    }
   ],
   "source": [
    "actions = np.array([1,2,1,0,0,0,1,0,0,1])\n",
    "actions = torch.from_numpy(actions)\n",
    "\n",
    "model(states).detach().max(2)[0].dtype"
   ]
  },
  {
   "cell_type": "code",
   "execution_count": 42,
   "metadata": {},
   "outputs": [
    {
     "data": {
      "text/plain": [
       "tensor([[[-0.0588,  0.0607,  0.0804,  0.2209, -0.0156,  0.0536,  0.0736,\n",
       "          -0.0072,  0.1033,  0.0881]]])"
      ]
     },
     "execution_count": 42,
     "metadata": {},
     "output_type": "execute_result"
    }
   ],
   "source": [
    "model(states).detach().max(2)[1].unsqueeze(dim=1)"
   ]
  },
  {
   "cell_type": "code",
   "execution_count": 43,
   "metadata": {},
   "outputs": [],
   "source": [
    "class QNetwork(nn.Module):\n",
    "    \"\"\"Actor (Policy) Model.\"\"\"\n",
    "\n",
    "    def __init__(self, state_size, action_size, seed):\n",
    "        \"\"\"Initialize parameters and build model.\n",
    "        Params\n",
    "        ======\n",
    "            state_size (int): Dimension of each state\n",
    "            action_size (int): Dimension of each action\n",
    "            seed (int): Random seed\n",
    "        \"\"\"\n",
    "        super(QNetwork, self).__init__()\n",
    "        self.seed = torch.manual_seed(seed)\n",
    "        \"*** YOUR CODE HERE ***\"\n",
    "        \n",
    "        self.fc1 = nn.Linear(state_size,64)\n",
    "        self.fc2 = nn.Linear(64,64)\n",
    "        self.fc3 = nn.Linear(64,action_size)\n",
    "\n",
    "    def forward(self, state):\n",
    "        \"\"\"Build a network that maps state -> action values.\"\"\"\n",
    "        x = F.relu(self.fc1(state))\n",
    "        x = F.relu(self.fc2(x))\n",
    "        x = self.fc3(x)\n",
    "        \n",
    "        return x"
   ]
  },
  {
   "cell_type": "code",
   "execution_count": 44,
   "metadata": {},
   "outputs": [],
   "source": [
    "modelQ = QNetwork(8,4,0)"
   ]
  },
  {
   "cell_type": "code",
   "execution_count": 45,
   "metadata": {},
   "outputs": [
    {
     "data": {
      "text/plain": [
       "QNetwork(\n",
       "  (fc1): Linear(in_features=8, out_features=64, bias=True)\n",
       "  (fc2): Linear(in_features=64, out_features=64, bias=True)\n",
       "  (fc3): Linear(in_features=64, out_features=4, bias=True)\n",
       ")"
      ]
     },
     "execution_count": 45,
     "metadata": {},
     "output_type": "execute_result"
    }
   ],
   "source": [
    "modelQ"
   ]
  },
  {
   "cell_type": "code",
   "execution_count": 46,
   "metadata": {},
   "outputs": [
    {
     "data": {
      "text/plain": [
       "tensor([[0.0954, 0.0761, 0.0820, 0.0908, 0.1100, 0.0924, 0.0756, 0.0793, 0.0776,\n",
       "         0.0720]])"
      ]
     },
     "execution_count": 46,
     "metadata": {},
     "output_type": "execute_result"
    }
   ],
   "source": [
    "outputQ = modelQ(states).detach().max(2)[0];outputQ"
   ]
  },
  {
   "cell_type": "code",
   "execution_count": 47,
   "metadata": {},
   "outputs": [
    {
     "data": {
      "text/plain": [
       "tensor([[0.0422, 0.2876, 0.5166, 0.1132, 0.9388, 0.1748, 0.3052, 0.4331, 0.0950,\n",
       "         0.4960]])"
      ]
     },
     "execution_count": 47,
     "metadata": {},
     "output_type": "execute_result"
    }
   ],
   "source": [
    "rewards = torch.rand(1,10);rewards"
   ]
  },
  {
   "cell_type": "code",
   "execution_count": 48,
   "metadata": {},
   "outputs": [
    {
     "data": {
      "text/plain": [
       "tensor([[0.0613, 0.3028, 0.5330, 0.1313, 0.9608, 0.1933, 0.3203, 0.4490, 0.1105,\n",
       "         0.5104]])"
      ]
     },
     "execution_count": 48,
     "metadata": {},
     "output_type": "execute_result"
    }
   ],
   "source": [
    "rewards + 0.2*(outputQ)"
   ]
  },
  {
   "cell_type": "code",
   "execution_count": 49,
   "metadata": {},
   "outputs": [],
   "source": [
    "actions = [1,2,1,0,3,1,0,2,1,3]"
   ]
  },
  {
   "cell_type": "code",
   "execution_count": 50,
   "metadata": {},
   "outputs": [
    {
     "name": "stdout",
     "output_type": "stream",
     "text": [
      "-0.03213\n",
      "-0.02443\n",
      "-0.04881\n",
      "0.09076\n",
      "-0.0173\n",
      "-0.01169\n",
      "0.07564\n",
      "-0.0318\n",
      "-0.03616\n",
      "-0.01078\n"
     ]
    },
    {
     "data": {
      "text/plain": [
       "[]"
      ]
     },
     "execution_count": 50,
     "metadata": {},
     "output_type": "execute_result"
    }
   ],
   "source": [
    "output_target = []\n",
    "for index in range(len(states[0])):\n",
    "    print(np.around(float(modelQ(states[0][index])[actions[index]].detach()),decimals=5))\n",
    "    \n",
    "output_target"
   ]
  },
  {
   "cell_type": "code",
   "execution_count": 51,
   "metadata": {},
   "outputs": [
    {
     "data": {
      "text/plain": [
       "tensor([ 0.0954, -0.0321, -0.0560, -0.0315])"
      ]
     },
     "execution_count": 51,
     "metadata": {},
     "output_type": "execute_result"
    }
   ],
   "source": [
    "modelQ(states[0])[0].detach()"
   ]
  },
  {
   "cell_type": "code",
   "execution_count": 52,
   "metadata": {},
   "outputs": [
    {
     "data": {
      "text/plain": [
       "tensor([[0.0954, 0.0761, 0.0820, 0.0908, 0.1100, 0.0924, 0.0756, 0.0793, 0.0776,\n",
       "         0.0720]])"
      ]
     },
     "execution_count": 52,
     "metadata": {},
     "output_type": "execute_result"
    }
   ],
   "source": [
    "output = modelQ.forward(states[0]).detach().max(1)[0].unsqueeze(0);output"
   ]
  },
  {
   "cell_type": "code",
   "execution_count": 53,
   "metadata": {},
   "outputs": [
    {
     "data": {
      "text/plain": [
       "torch.Size([1, 10])"
      ]
     },
     "execution_count": 53,
     "metadata": {},
     "output_type": "execute_result"
    }
   ],
   "source": [
    "output.size()"
   ]
  },
  {
   "cell_type": "code",
   "execution_count": 86,
   "metadata": {},
   "outputs": [
    {
     "name": "stdout",
     "output_type": "stream",
     "text": [
      "tensor([[1],\n",
      "        [2],\n",
      "        [0],\n",
      "        [0],\n",
      "        [0],\n",
      "        [0],\n",
      "        [2],\n",
      "        [1],\n",
      "        [0],\n",
      "        [1]])\n",
      "tensor([[ 0.0954, -0.0321, -0.0560, -0.0315],\n",
      "        [ 0.0761, -0.0497, -0.0244, -0.0441],\n",
      "        [ 0.0820, -0.0488, -0.0346, -0.0545],\n",
      "        [ 0.0908, -0.0120, -0.0496, -0.0115],\n",
      "        [ 0.1100, -0.0151, -0.0774, -0.0173],\n",
      "        [ 0.0924, -0.0117, -0.0549, -0.0094],\n",
      "        [ 0.0756, -0.0332, -0.0209, -0.0139],\n",
      "        [ 0.0793, -0.0306, -0.0318, -0.0187],\n",
      "        [ 0.0776, -0.0362, -0.0289, -0.0234],\n",
      "        [ 0.0720, -0.0526, -0.0166, -0.0108]])\n"
     ]
    },
    {
     "data": {
      "text/plain": [
       "tensor([[-0.0321],\n",
       "        [-0.0244],\n",
       "        [ 0.0820],\n",
       "        [ 0.0908],\n",
       "        [ 0.1100],\n",
       "        [ 0.0924],\n",
       "        [-0.0209],\n",
       "        [-0.0306],\n",
       "        [ 0.0776],\n",
       "        [-0.0526]])"
      ]
     },
     "execution_count": 86,
     "metadata": {},
     "output_type": "execute_result"
    }
   ],
   "source": [
    "output_aux = modelQ.forward(states).detach().squeeze()\n",
    "print(max_actions)\n",
    "print(output_aux)\n",
    "output_aux.gather(1,max_actions)"
   ]
  },
  {
   "cell_type": "code",
   "execution_count": null,
   "metadata": {},
   "outputs": [],
   "source": []
  },
  {
   "cell_type": "code",
   "execution_count": null,
   "metadata": {},
   "outputs": [],
   "source": []
  }
 ],
 "metadata": {
  "kernelspec": {
   "display_name": "Python 3",
   "language": "python",
   "name": "python3"
  },
  "language_info": {
   "codemirror_mode": {
    "name": "ipython",
    "version": 3
   },
   "file_extension": ".py",
   "mimetype": "text/x-python",
   "name": "python",
   "nbconvert_exporter": "python",
   "pygments_lexer": "ipython3",
   "version": "3.6.8"
  }
 },
 "nbformat": 4,
 "nbformat_minor": 2
}
