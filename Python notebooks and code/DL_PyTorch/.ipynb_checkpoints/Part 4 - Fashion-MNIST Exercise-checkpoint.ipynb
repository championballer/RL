{
 "cells": [
  {
   "cell_type": "markdown",
   "metadata": {},
   "source": [
    "# Classifying Fashion-MNIST\n",
    "\n",
    "Now it's your turn to build and train a neural network. You'll be using the [Fashion-MNIST dataset](https://github.com/zalandoresearch/fashion-mnist), a drop-in replacement for the MNIST dataset. MNIST is actually quite trivial with neural networks where you can easily achieve better than 97% accuracy. Fashion-MNIST is a set of 28x28 greyscale images of clothes. It's more complex than MNIST, so it's a better representation of the actual performance of your network, and a better representation of datasets you'll use in the real world.\n",
    "\n",
    "<img src='assets/fashion-mnist-sprite.png' width=500px>\n",
    "\n",
    "In this notebook, you'll build your own neural network. For the most part, you could just copy and paste the code from Part 3, but you wouldn't be learning. It's important for you to write the code yourself and get it to work. Feel free to consult the previous notebook though as you work through this.\n",
    "\n",
    "First off, let's load the dataset through torchvision."
   ]
  },
  {
   "cell_type": "code",
   "execution_count": 1,
   "metadata": {},
   "outputs": [],
   "source": [
    "import torch\n",
    "from torchvision import datasets, transforms\n",
    "import helper\n",
    "\n",
    "# Define a transform to normalize the data\n",
    "transform = transforms.Compose([transforms.ToTensor(),\n",
    "                                transforms.Normalize((0.5,), (0.5,))])\n",
    "# Download and load the training data\n",
    "trainset = datasets.FashionMNIST('F_MNIST_data/', download=True, train=True, transform=transform)\n",
    "trainloader = torch.utils.data.DataLoader(trainset, batch_size=64, shuffle=True)\n",
    "\n",
    "# Download and load the test data\n",
    "testset = datasets.FashionMNIST('F_MNIST_data/', download=True, train=False, transform=transform)\n",
    "testloader = torch.utils.data.DataLoader(testset, batch_size=64, shuffle=True)"
   ]
  },
  {
   "cell_type": "markdown",
   "metadata": {},
   "source": [
    "Here we can see one of the images."
   ]
  },
  {
   "cell_type": "code",
   "execution_count": 2,
   "metadata": {},
   "outputs": [
    {
     "data": {
      "image/png": "[encoded data removed]",
      "text/plain": [
       "<Figure size 432x288 with 1 Axes>"
      ]
     },
     "metadata": {
      "needs_background": "light"
     },
     "output_type": "display_data"
    }
   ],
   "source": [
    "image, label = next(iter(trainloader))\n",
    "helper.imshow(image[0,:]);"
   ]
  },
  {
   "cell_type": "markdown",
   "metadata": {},
   "source": [
    "With the data loaded, it's time to import the necessary packages."
   ]
  },
  {
   "cell_type": "code",
   "execution_count": 3,
   "metadata": {},
   "outputs": [],
   "source": [
    "%matplotlib inline\n",
    "%config InlineBackend.figure_format = 'retina'\n",
    "\n",
    "import matplotlib.pyplot as plt\n",
    "import numpy as np\n",
    "import time\n",
    "\n",
    "import torch\n",
    "from torch import nn\n",
    "from torch import optim\n",
    "import torch.nn.functional as F\n",
    "from torchvision import datasets, transforms\n",
    "\n",
    "import helper"
   ]
  },
  {
   "cell_type": "markdown",
   "metadata": {},
   "source": [
    "## Building the network\n",
    "\n",
    "Here you should define your network. As with MNIST, each image is 28x28 which is a total of 784 pixels, and there are 10 classes. You should include at least one hidden layer. We suggest you use ReLU activations for the layers and to return the logits from the forward pass. It's up to you how many layers you add and the size of those layers."
   ]
  },
  {
   "cell_type": "code",
   "execution_count": 8,
   "metadata": {},
   "outputs": [
    {
     "data": {
      "text/plain": [
       "tensor([[-0.0172,  0.1365,  0.0672, -0.0811, -0.0083, -0.1185,  0.0049,  0.0311,\n",
       "          0.0245, -0.0563]], grad_fn=<AddmmBackward>)"
      ]
     },
     "execution_count": 8,
     "metadata": {},
     "output_type": "execute_result"
    }
   ],
   "source": [
    "# TODO: Define your network architecture here\n",
    "\n",
    "class Network(nn.Module):\n",
    "    \n",
    "    def __init__(self):\n",
    "        super().__init__()\n",
    "        self.fc1 = nn.Linear(784,512)\n",
    "        self.fc2 = nn.Linear(512,256)\n",
    "        self.fc3 = nn.Linear(256,128)\n",
    "        self.fc4 = nn.Linear(128,64)\n",
    "        self.fc5 = nn.Linear(64,10)\n",
    "    \n",
    "    def forward(self,x):\n",
    "        x = self.fc1(x)\n",
    "        x = F.relu(x)\n",
    "        x = self.fc2(x)\n",
    "        x = F.relu(x)\n",
    "        x = self.fc3(x)\n",
    "        x = F.relu(x)\n",
    "        x = self.fc4(x)\n",
    "        x = F.relu(x)\n",
    "        x = self.fc5(x)\n",
    "        \n",
    "        return x\n",
    "\n",
    "model = Network()\n",
    "image.resize_(64,1,784)\n",
    "model.forward(image[0,:])"
   ]
  },
  {
   "cell_type": "markdown",
   "metadata": {},
   "source": [
    "# Train the network\n",
    "\n",
    "Now you should create your network and train it. First you'll want to define [the criterion](http://pytorch.org/docs/master/nn.html#loss-functions) ( something like `nn.CrossEntropyLoss`) and [the optimizer](http://pytorch.org/docs/master/optim.html) (typically `optim.SGD` or `optim.Adam`).\n",
    "\n",
    "Then write the training code. Remember the training pass is a fairly straightforward process:\n",
    "\n",
    "* Make a forward pass through the network to get the logits \n",
    "* Use the logits to calculate the loss\n",
    "* Perform a backward pass through the network with `loss.backward()` to calculate the gradients\n",
    "* Take a step with the optimizer to update the weights\n",
    "\n",
    "By adjusting the hyperparameters (hidden units, learning rate, etc), you should be able to get the training loss below 0.4."
   ]
  },
  {
   "cell_type": "code",
   "execution_count": 9,
   "metadata": {},
   "outputs": [],
   "source": [
    "# TODO: Create the network, define the criterion and optimizer\n",
    "model=Network()\n",
    "criterion = nn.CrossEntropyLoss()\n",
    "optimizer = optim.SGD(model.parameters(),lr=0.01)"
   ]
  },
  {
   "cell_type": "code",
   "execution_count": 15,
   "metadata": {},
   "outputs": [
    {
     "name": "stdout",
     "output_type": "stream",
     "text": [
      "Epoch: 1/5...  Loss: 0.4362\n",
      "Epoch: 1/5...  Loss: 0.4461\n",
      "Epoch: 1/5...  Loss: 0.4444\n",
      "Epoch: 1/5...  Loss: 0.4374\n",
      "Epoch: 1/5...  Loss: 0.4407\n",
      "Epoch: 1/5...  Loss: 0.3909\n",
      "Epoch: 1/5...  Loss: 0.4292\n",
      "Epoch: 1/5...  Loss: 0.4421\n",
      "Epoch: 1/5...  Loss: 0.4356\n",
      "Epoch: 1/5...  Loss: 0.4086\n",
      "Epoch: 1/5...  Loss: 0.4369\n",
      "Epoch: 1/5...  Loss: 0.4037\n",
      "Epoch: 1/5...  Loss: 0.4037\n",
      "Epoch: 1/5...  Loss: 0.4185\n",
      "Epoch: 1/5...  Loss: 0.4309\n",
      "Epoch: 1/5...  Loss: 0.4245\n",
      "Epoch: 1/5...  Loss: 0.4392\n",
      "Epoch: 1/5...  Loss: 0.4307\n",
      "Epoch: 1/5...  Loss: 0.4305\n",
      "Epoch: 1/5...  Loss: 0.4221\n",
      "Epoch: 1/5...  Loss: 0.4332\n",
      "Epoch: 1/5...  Loss: 0.4229\n",
      "Epoch: 1/5...  Loss: 0.4323\n",
      "Epoch: 2/5...  Loss: 0.2056\n",
      "Epoch: 2/5...  Loss: 0.3860\n",
      "Epoch: 2/5...  Loss: 0.4065\n",
      "Epoch: 2/5...  Loss: 0.4303\n",
      "Epoch: 2/5...  Loss: 0.4129\n",
      "Epoch: 2/5...  Loss: 0.4012\n",
      "Epoch: 2/5...  Loss: 0.4075\n",
      "Epoch: 2/5...  Loss: 0.4026\n",
      "Epoch: 2/5...  Loss: 0.4236\n",
      "Epoch: 2/5...  Loss: 0.4001\n",
      "Epoch: 2/5...  Loss: 0.4245\n",
      "Epoch: 2/5...  Loss: 0.3933\n",
      "Epoch: 2/5...  Loss: 0.4004\n",
      "Epoch: 2/5...  Loss: 0.4000\n",
      "Epoch: 2/5...  Loss: 0.3976\n",
      "Epoch: 2/5...  Loss: 0.3950\n",
      "Epoch: 2/5...  Loss: 0.4057\n",
      "Epoch: 2/5...  Loss: 0.3744\n",
      "Epoch: 2/5...  Loss: 0.3921\n",
      "Epoch: 2/5...  Loss: 0.4344\n",
      "Epoch: 2/5...  Loss: 0.4046\n",
      "Epoch: 2/5...  Loss: 0.4232\n",
      "Epoch: 2/5...  Loss: 0.3955\n",
      "Epoch: 3/5...  Loss: 0.0378\n",
      "Epoch: 3/5...  Loss: 0.3979\n",
      "Epoch: 3/5...  Loss: 0.3859\n",
      "Epoch: 3/5...  Loss: 0.4241\n",
      "Epoch: 3/5...  Loss: 0.4090\n",
      "Epoch: 3/5...  Loss: 0.3891\n",
      "Epoch: 3/5...  Loss: 0.3754\n",
      "Epoch: 3/5...  Loss: 0.3797\n",
      "Epoch: 3/5...  Loss: 0.3847\n",
      "Epoch: 3/5...  Loss: 0.3891\n",
      "Epoch: 3/5...  Loss: 0.3906\n",
      "Epoch: 3/5...  Loss: 0.3547\n",
      "Epoch: 3/5...  Loss: 0.3822\n",
      "Epoch: 3/5...  Loss: 0.3815\n",
      "Epoch: 3/5...  Loss: 0.4135\n",
      "Epoch: 3/5...  Loss: 0.4143\n",
      "Epoch: 3/5...  Loss: 0.3813\n",
      "Epoch: 3/5...  Loss: 0.3830\n",
      "Epoch: 3/5...  Loss: 0.3529\n",
      "Epoch: 3/5...  Loss: 0.3715\n",
      "Epoch: 3/5...  Loss: 0.3588\n",
      "Epoch: 3/5...  Loss: 0.3793\n",
      "Epoch: 3/5...  Loss: 0.3724\n",
      "Epoch: 3/5...  Loss: 0.3898\n",
      "Epoch: 4/5...  Loss: 0.2423\n",
      "Epoch: 4/5...  Loss: 0.4036\n",
      "Epoch: 4/5...  Loss: 0.3693\n",
      "Epoch: 4/5...  Loss: 0.3842\n",
      "Epoch: 4/5...  Loss: 0.3571\n",
      "Epoch: 4/5...  Loss: 0.3747\n",
      "Epoch: 4/5...  Loss: 0.3837\n",
      "Epoch: 4/5...  Loss: 0.3780\n",
      "Epoch: 4/5...  Loss: 0.3529\n",
      "Epoch: 4/5...  Loss: 0.3668\n",
      "Epoch: 4/5...  Loss: 0.3692\n",
      "Epoch: 4/5...  Loss: 0.3677\n",
      "Epoch: 4/5...  Loss: 0.3925\n",
      "Epoch: 4/5...  Loss: 0.3571\n",
      "Epoch: 4/5...  Loss: 0.3561\n",
      "Epoch: 4/5...  Loss: 0.3667\n",
      "Epoch: 4/5...  Loss: 0.3826\n",
      "Epoch: 4/5...  Loss: 0.3513\n",
      "Epoch: 4/5...  Loss: 0.3726\n",
      "Epoch: 4/5...  Loss: 0.3592\n",
      "Epoch: 4/5...  Loss: 0.3481\n",
      "Epoch: 4/5...  Loss: 0.3809\n",
      "Epoch: 4/5...  Loss: 0.3725\n",
      "Epoch: 5/5...  Loss: 0.0692\n",
      "Epoch: 5/5...  Loss: 0.3614\n",
      "Epoch: 5/5...  Loss: 0.3768\n",
      "Epoch: 5/5...  Loss: 0.3681\n",
      "Epoch: 5/5...  Loss: 0.3637\n",
      "Epoch: 5/5...  Loss: 0.3372\n",
      "Epoch: 5/5...  Loss: 0.3266\n",
      "Epoch: 5/5...  Loss: 0.3703\n",
      "Epoch: 5/5...  Loss: 0.3494\n",
      "Epoch: 5/5...  Loss: 0.3638\n",
      "Epoch: 5/5...  Loss: 0.3553\n",
      "Epoch: 5/5...  Loss: 0.3859\n",
      "Epoch: 5/5...  Loss: 0.3417\n",
      "Epoch: 5/5...  Loss: 0.3684\n",
      "Epoch: 5/5...  Loss: 0.3486\n",
      "Epoch: 5/5...  Loss: 0.3722\n",
      "Epoch: 5/5...  Loss: 0.3553\n",
      "Epoch: 5/5...  Loss: 0.3464\n",
      "Epoch: 5/5...  Loss: 0.3535\n",
      "Epoch: 5/5...  Loss: 0.3838\n",
      "Epoch: 5/5...  Loss: 0.3732\n",
      "Epoch: 5/5...  Loss: 0.3335\n",
      "Epoch: 5/5...  Loss: 0.3319\n",
      "Epoch: 5/5...  Loss: 0.3599\n"
     ]
    }
   ],
   "source": [
    "# TODO: Train the network here\n",
    "epochs = 5\n",
    "print_every = 40\n",
    "steps = 0\n",
    "\n",
    "for e in range(epochs):\n",
    "    running_loss = 0\n",
    "    for images,labels in iter(trainloader):\n",
    "        steps += 1\n",
    "        images.resize_(images.size()[0],784)\n",
    "        optimizer.zero_grad()\n",
    "        \n",
    "        \n",
    "        output = model.forward(images)\n",
    "        loss = criterion(output,labels)\n",
    "        loss.backward()\n",
    "        optimizer.step()\n",
    "        \n",
    "        running_loss += loss.item()\n",
    "        \n",
    "        if steps % print_every == 0:\n",
    "            print(\"Epoch: {}/{}... \".format(e+1, epochs),\n",
    "                  \"Loss: {:.4f}\".format(running_loss/print_every))\n",
    "            \n",
    "            running_loss = 0"
   ]
  },
  {
   "cell_type": "code",
   "execution_count": 20,
   "metadata": {},
   "outputs": [
    {
     "data": {
      "image/png": "[encoded data removed]",
      "text/plain": [
       "<Figure size 432x648 with 2 Axes>"
      ]
     },
     "metadata": {
      "image/png": {
       "height": 206,
       "width": 423
      },
      "needs_background": "light"
     },
     "output_type": "display_data"
    }
   ],
   "source": [
    "# Test out your network!\n",
    "\n",
    "dataiter = iter(testloader)\n",
    "images, labels = dataiter.next()\n",
    "img = images[0]\n",
    "# Convert 2D image to 1D vector\n",
    "img = img.resize_(1, 784)\n",
    "\n",
    "# TODO: Calculate the class probabilities (softmax) for img\n",
    "with torch.no_grad():\n",
    "    ps = model.forward(img)\n",
    "# Plot the image and probabilities\n",
    "helper.view_classify(img.resize_(1, 28, 28), ps, version='Fashion')"
   ]
  },
  {
   "cell_type": "markdown",
   "metadata": {},
   "source": [
    "Now that your network is trained, you'll want to save it to disk so you can load it later instead of training it again. Obviously, it's impractical to train a network every time you need one. In practice, you'll train it once, save the model, then reload it for further training or making predictions. In the next part, I'll show you how to save and load trained models."
   ]
  }
 ],
 "metadata": {
  "kernelspec": {
   "display_name": "Python 3",
   "language": "python",
   "name": "python3"
  },
  "language_info": {
   "codemirror_mode": {
    "name": "ipython",
    "version": 3
   },
   "file_extension": ".py",
   "mimetype": "text/x-python",
   "name": "python",
   "nbconvert_exporter": "python",
   "pygments_lexer": "ipython3",
   "version": "3.6.8"
  }
 },
 "nbformat": 4,
 "nbformat_minor": 2
}
