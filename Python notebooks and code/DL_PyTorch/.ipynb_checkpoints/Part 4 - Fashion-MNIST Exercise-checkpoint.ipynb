{
 "cells": [
  {
   "cell_type": "markdown",
   "metadata": {},
   "source": [
    "# Classifying Fashion-MNIST\n",
    "\n",
    "Now it's your turn to build and train a neural network. You'll be using the [Fashion-MNIST dataset](https://github.com/zalandoresearch/fashion-mnist), a drop-in replacement for the MNIST dataset. MNIST is actually quite trivial with neural networks where you can easily achieve better than 97% accuracy. Fashion-MNIST is a set of 28x28 greyscale images of clothes. It's more complex than MNIST, so it's a better representation of the actual performance of your network, and a better representation of datasets you'll use in the real world.\n",
    "\n",
    "<img src='assets/fashion-mnist-sprite.png' width=500px>\n",
    "\n",
    "In this notebook, you'll build your own neural network. For the most part, you could just copy and paste the code from Part 3, but you wouldn't be learning. It's important for you to write the code yourself and get it to work. Feel free to consult the previous notebook though as you work through this.\n",
    "\n",
    "First off, let's load the dataset through torchvision."
   ]
  },
  {
   "cell_type": "code",
   "execution_count": 38,
   "metadata": {},
   "outputs": [],
   "source": [
    "import torch\n",
    "from torchvision import datasets, transforms\n",
    "import helper\n",
    "\n",
    "# Define a transform to normalize the data\n",
    "transform = transforms.Compose([transforms.ToTensor(),\n",
    "                                transforms.Normalize((0.5,), (0.5,))])\n",
    "# Download and load the training data\n",
    "trainset = datasets.FashionMNIST('F_MNIST_data/', download=True, train=True, transform=transform)\n",
    "trainloader = torch.utils.data.DataLoader(trainset, batch_size=64, shuffle=True)\n",
    "\n",
    "# Download and load the test data\n",
    "testset = datasets.FashionMNIST('F_MNIST_data/', download=True, train=False, transform=transform)\n",
    "testloader = torch.utils.data.DataLoader(testset, batch_size=64, shuffle=True)"
   ]
  },
  {
   "cell_type": "markdown",
   "metadata": {},
   "source": [
    "Here we can see one of the images."
   ]
  },
  {
   "cell_type": "code",
   "execution_count": 39,
   "metadata": {},
   "outputs": [
    {
     "data": {
      "image/png": "[encoded data removed]",
      "text/plain": [
       "<Figure size 432x288 with 1 Axes>"
      ]
     },
     "metadata": {
      "image/png": {
       "height": 233,
       "width": 233
      },
      "needs_background": "light"
     },
     "output_type": "display_data"
    }
   ],
   "source": [
    "image, label = next(iter(trainloader))\n",
    "helper.imshow(image[0,:]);"
   ]
  },
  {
   "cell_type": "markdown",
   "metadata": {},
   "source": [
    "With the data loaded, it's time to import the necessary packages."
   ]
  },
  {
   "cell_type": "code",
   "execution_count": 40,
   "metadata": {},
   "outputs": [],
   "source": [
    "%matplotlib inline\n",
    "%config InlineBackend.figure_format = 'retina'\n",
    "\n",
    "import matplotlib.pyplot as plt\n",
    "import numpy as np\n",
    "import time\n",
    "\n",
    "import torch\n",
    "from torch import nn\n",
    "from torch import optim\n",
    "import torch.nn.functional as F\n",
    "from torchvision import datasets, transforms\n",
    "\n",
    "import helper"
   ]
  },
  {
   "cell_type": "markdown",
   "metadata": {},
   "source": [
    "## Building the network\n",
    "\n",
    "Here you should define your network. As with MNIST, each image is 28x28 which is a total of 784 pixels, and there are 10 classes. You should include at least one hidden layer. We suggest you use ReLU activations for the layers and to return the logits from the forward pass. It's up to you how many layers you add and the size of those layers."
   ]
  },
  {
   "cell_type": "code",
   "execution_count": 41,
   "metadata": {},
   "outputs": [
    {
     "data": {
      "text/plain": [
       "tensor([[-0.1031,  0.0509, -0.0821,  0.0129, -0.1407,  0.0736,  0.0973, -0.1000,\n",
       "          0.0726, -0.0414]], grad_fn=<AddmmBackward>)"
      ]
     },
     "execution_count": 41,
     "metadata": {},
     "output_type": "execute_result"
    }
   ],
   "source": [
    "# TODO: Define your network architecture here\n",
    "\n",
    "class Network(nn.Module):\n",
    "    \n",
    "    def __init__(self):\n",
    "        super().__init__()\n",
    "        self.fc1 = nn.Linear(784,400)\n",
    "        self.fc2 = nn.Linear(400,200)\n",
    "        self.fc3 = nn.Linear(200,100)\n",
    "        self.fc4 = nn.Linear(100,10)\n",
    "    \n",
    "    def forward(self,x):\n",
    "        x = self.fc1(x)\n",
    "        x = F.relu(x)\n",
    "        x = self.fc2(x)\n",
    "        x = F.relu(x)\n",
    "        x = self.fc3(x)\n",
    "        x = F.relu(x)\n",
    "        x = self.fc4(x)\n",
    "        \n",
    "        return x\n",
    "\n",
    "model = Network()\n",
    "image.resize_(32,1,784)\n",
    "model.forward(image[0,:])"
   ]
  },
  {
   "cell_type": "markdown",
   "metadata": {},
   "source": [
    "# Train the network\n",
    "\n",
    "Now you should create your network and train it. First you'll want to define [the criterion](http://pytorch.org/docs/master/nn.html#loss-functions) ( something like `nn.CrossEntropyLoss`) and [the optimizer](http://pytorch.org/docs/master/optim.html) (typically `optim.SGD` or `optim.Adam`).\n",
    "\n",
    "Then write the training code. Remember the training pass is a fairly straightforward process:\n",
    "\n",
    "* Make a forward pass through the network to get the logits \n",
    "* Use the logits to calculate the loss\n",
    "* Perform a backward pass through the network with `loss.backward()` to calculate the gradients\n",
    "* Take a step with the optimizer to update the weights\n",
    "\n",
    "By adjusting the hyperparameters (hidden units, learning rate, etc), you should be able to get the training loss below 0.4."
   ]
  },
  {
   "cell_type": "code",
   "execution_count": 42,
   "metadata": {},
   "outputs": [],
   "source": [
    "# TODO: Create the network, define the criterion and optimizer\n",
    "model=Network()\n",
    "criterion = nn.CrossEntropyLoss()\n",
    "optimizer = optim.SGD(model.parameters(),lr=0.01)"
   ]
  },
  {
   "cell_type": "code",
   "execution_count": 57,
   "metadata": {},
   "outputs": [
    {
     "name": "stdout",
     "output_type": "stream",
     "text": [
      "Epoch: 1/5...  Loss: 0.3032\n",
      "Epoch: 1/5...  Loss: 0.3101\n",
      "Epoch: 1/5...  Loss: 0.3126\n",
      "Epoch: 1/5...  Loss: 0.3005\n",
      "Epoch: 1/5...  Loss: 0.3156\n",
      "Epoch: 1/5...  Loss: 0.3041\n",
      "Epoch: 1/5...  Loss: 0.2834\n",
      "Epoch: 1/5...  Loss: 0.3206\n",
      "Epoch: 1/5...  Loss: 0.2917\n",
      "Epoch: 1/5...  Loss: 0.3278\n",
      "Epoch: 1/5...  Loss: 0.3191\n",
      "Epoch: 1/5...  Loss: 0.3408\n",
      "Epoch: 1/5...  Loss: 0.3062\n",
      "Epoch: 1/5...  Loss: 0.3259\n",
      "Epoch: 1/5...  Loss: 0.3127\n",
      "Epoch: 1/5...  Loss: 0.2835\n",
      "Epoch: 1/5...  Loss: 0.2892\n",
      "Epoch: 1/5...  Loss: 0.3002\n",
      "Epoch: 1/5...  Loss: 0.3289\n",
      "Epoch: 1/5...  Loss: 0.2785\n",
      "Epoch: 1/5...  Loss: 0.3089\n",
      "Epoch: 1/5...  Loss: 0.2942\n",
      "Epoch: 1/5...  Loss: 0.3261\n",
      "Epoch: 2/5...  Loss: 0.1737\n",
      "Epoch: 2/5...  Loss: 0.3090\n",
      "Epoch: 2/5...  Loss: 0.2883\n",
      "Epoch: 2/5...  Loss: 0.2997\n",
      "Epoch: 2/5...  Loss: 0.3107\n",
      "Epoch: 2/5...  Loss: 0.3157\n",
      "Epoch: 2/5...  Loss: 0.2939\n",
      "Epoch: 2/5...  Loss: 0.3137\n",
      "Epoch: 2/5...  Loss: 0.3033\n",
      "Epoch: 2/5...  Loss: 0.3109\n",
      "Epoch: 2/5...  Loss: 0.2914\n",
      "Epoch: 2/5...  Loss: 0.2892\n",
      "Epoch: 2/5...  Loss: 0.2944\n",
      "Epoch: 2/5...  Loss: 0.2936\n",
      "Epoch: 2/5...  Loss: 0.2927\n",
      "Epoch: 2/5...  Loss: 0.3101\n",
      "Epoch: 2/5...  Loss: 0.2854\n",
      "Epoch: 2/5...  Loss: 0.2831\n",
      "Epoch: 2/5...  Loss: 0.3196\n",
      "Epoch: 2/5...  Loss: 0.3240\n",
      "Epoch: 2/5...  Loss: 0.3072\n",
      "Epoch: 2/5...  Loss: 0.3131\n",
      "Epoch: 2/5...  Loss: 0.2971\n",
      "Epoch: 3/5...  Loss: 0.0315\n",
      "Epoch: 3/5...  Loss: 0.3112\n",
      "Epoch: 3/5...  Loss: 0.2695\n",
      "Epoch: 3/5...  Loss: 0.3103\n",
      "Epoch: 3/5...  Loss: 0.2953\n",
      "Epoch: 3/5...  Loss: 0.2965\n",
      "Epoch: 3/5...  Loss: 0.3005\n",
      "Epoch: 3/5...  Loss: 0.2990\n",
      "Epoch: 3/5...  Loss: 0.3053\n",
      "Epoch: 3/5...  Loss: 0.2972\n",
      "Epoch: 3/5...  Loss: 0.2822\n",
      "Epoch: 3/5...  Loss: 0.2835\n",
      "Epoch: 3/5...  Loss: 0.2835\n",
      "Epoch: 3/5...  Loss: 0.2989\n",
      "Epoch: 3/5...  Loss: 0.2949\n",
      "Epoch: 3/5...  Loss: 0.2859\n",
      "Epoch: 3/5...  Loss: 0.2977\n",
      "Epoch: 3/5...  Loss: 0.2925\n",
      "Epoch: 3/5...  Loss: 0.3107\n",
      "Epoch: 3/5...  Loss: 0.2981\n",
      "Epoch: 3/5...  Loss: 0.3026\n",
      "Epoch: 3/5...  Loss: 0.3023\n",
      "Epoch: 3/5...  Loss: 0.3066\n",
      "Epoch: 3/5...  Loss: 0.2985\n",
      "Epoch: 4/5...  Loss: 0.1826\n",
      "Epoch: 4/5...  Loss: 0.2729\n",
      "Epoch: 4/5...  Loss: 0.2915\n",
      "Epoch: 4/5...  Loss: 0.2730\n",
      "Epoch: 4/5...  Loss: 0.3092\n",
      "Epoch: 4/5...  Loss: 0.2990\n",
      "Epoch: 4/5...  Loss: 0.2781\n",
      "Epoch: 4/5...  Loss: 0.2849\n",
      "Epoch: 4/5...  Loss: 0.2885\n",
      "Epoch: 4/5...  Loss: 0.2993\n",
      "Epoch: 4/5...  Loss: 0.2753\n",
      "Epoch: 4/5...  Loss: 0.3066\n",
      "Epoch: 4/5...  Loss: 0.2874\n",
      "Epoch: 4/5...  Loss: 0.3096\n",
      "Epoch: 4/5...  Loss: 0.2844\n",
      "Epoch: 4/5...  Loss: 0.2951\n",
      "Epoch: 4/5...  Loss: 0.2827\n",
      "Epoch: 4/5...  Loss: 0.2615\n",
      "Epoch: 4/5...  Loss: 0.2910\n",
      "Epoch: 4/5...  Loss: 0.2833\n",
      "Epoch: 4/5...  Loss: 0.2841\n",
      "Epoch: 4/5...  Loss: 0.2841\n",
      "Epoch: 4/5...  Loss: 0.3163\n",
      "Epoch: 5/5...  Loss: 0.0530\n",
      "Epoch: 5/5...  Loss: 0.2828\n",
      "Epoch: 5/5...  Loss: 0.2700\n",
      "Epoch: 5/5...  Loss: 0.2847\n",
      "Epoch: 5/5...  Loss: 0.2561\n",
      "Epoch: 5/5...  Loss: 0.3102\n",
      "Epoch: 5/5...  Loss: 0.2582\n",
      "Epoch: 5/5...  Loss: 0.2649\n",
      "Epoch: 5/5...  Loss: 0.2801\n",
      "Epoch: 5/5...  Loss: 0.2839\n",
      "Epoch: 5/5...  Loss: 0.2738\n",
      "Epoch: 5/5...  Loss: 0.3073\n",
      "Epoch: 5/5...  Loss: 0.2819\n",
      "Epoch: 5/5...  Loss: 0.3057\n",
      "Epoch: 5/5...  Loss: 0.2855\n",
      "Epoch: 5/5...  Loss: 0.2938\n",
      "Epoch: 5/5...  Loss: 0.2912\n",
      "Epoch: 5/5...  Loss: 0.2919\n",
      "Epoch: 5/5...  Loss: 0.2776\n",
      "Epoch: 5/5...  Loss: 0.2734\n",
      "Epoch: 5/5...  Loss: 0.2665\n",
      "Epoch: 5/5...  Loss: 0.2813\n",
      "Epoch: 5/5...  Loss: 0.2886\n",
      "Epoch: 5/5...  Loss: 0.2929\n"
     ]
    }
   ],
   "source": [
    "# TODO: Train the network here\n",
    "epochs = 5\n",
    "print_every = 40\n",
    "steps = 0\n",
    "\n",
    "for e in range(epochs):\n",
    "    running_loss = 0\n",
    "    for images,labels in iter(trainloader):\n",
    "        steps += 1\n",
    "        images.resize_(images.size()[0],784)\n",
    "        optimizer.zero_grad()\n",
    "        \n",
    "        \n",
    "        output = model.forward(images)\n",
    "        loss = criterion(output,labels)\n",
    "        loss.backward()\n",
    "        optimizer.step()\n",
    "        \n",
    "        running_loss += loss.item()\n",
    "        \n",
    "        if steps % print_every == 0:\n",
    "            print(\"Epoch: {}/{}... \".format(e+1, epochs),\n",
    "                  \"Loss: {:.4f}\".format(running_loss/print_every))\n",
    "            \n",
    "            running_loss = 0"
   ]
  },
  {
   "cell_type": "code",
   "execution_count": 56,
   "metadata": {},
   "outputs": [
    {
     "data": {
      "image/png": "[encoded data removed]",
      "text/plain": [
       "<Figure size 432x648 with 2 Axes>"
      ]
     },
     "metadata": {
      "image/png": {
       "height": 206,
       "width": 423
      },
      "needs_background": "light"
     },
     "output_type": "display_data"
    }
   ],
   "source": [
    "# Test out your network!\n",
    "\n",
    "dataiter = iter(testloader)\n",
    "images, labels = dataiter.next()\n",
    "img = images[0]\n",
    "# Convert 2D image to 1D vector\n",
    "img = img.resize_(1, 784)\n",
    "\n",
    "# TODO: Calculate the class probabilities (softmax) for img\n",
    "with torch.no_grad():\n",
    "    ps = model.forward(img)\n",
    "# Plot the image and probabilities\n",
    "helper.view_classify(img.resize_(1, 28, 28), ps, version='Fashion')"
   ]
  },
  {
   "cell_type": "markdown",
   "metadata": {},
   "source": [
    "Now that your network is trained, you'll want to save it to disk so you can load it later instead of training it again. Obviously, it's impractical to train a network every time you need one. In practice, you'll train it once, save the model, then reload it for further training or making predictions. In the next part, I'll show you how to save and load trained models."
   ]
  }
 ],
 "metadata": {
  "kernelspec": {
   "display_name": "Python 3",
   "language": "python",
   "name": "python3"
  },
  "language_info": {
   "codemirror_mode": {
    "name": "ipython",
    "version": 3
   },
   "file_extension": ".py",
   "mimetype": "text/x-python",
   "name": "python",
   "nbconvert_exporter": "python",
   "pygments_lexer": "ipython3",
   "version": "3.6.8"
  }
 },
 "nbformat": 4,
 "nbformat_minor": 2
}
