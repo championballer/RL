{
 "cells": [
  {
   "cell_type": "code",
   "execution_count": 2,
   "metadata": {},
   "outputs": [],
   "source": [
    "import sys\n",
    "import gym\n",
    "import numpy as np"
   ]
  },
  {
   "cell_type": "code",
   "execution_count": 3,
   "metadata": {},
   "outputs": [],
   "source": [
    "env = gym.make('CliffWalking-v0')"
   ]
  },
  {
   "cell_type": "code",
   "execution_count": 4,
   "metadata": {},
   "outputs": [
    {
     "data": {
      "text/plain": [
       "Discrete(4)"
      ]
     },
     "execution_count": 4,
     "metadata": {},
     "output_type": "execute_result"
    }
   ],
   "source": [
    "env.action_space"
   ]
  },
  {
   "cell_type": "code",
   "execution_count": 5,
   "metadata": {},
   "outputs": [
    {
     "data": {
      "text/plain": [
       "Discrete(48)"
      ]
     },
     "execution_count": 5,
     "metadata": {},
     "output_type": "execute_result"
    }
   ],
   "source": [
    "env.observation_space"
   ]
  },
  {
   "cell_type": "code",
   "execution_count": 6,
   "metadata": {},
   "outputs": [
    {
     "data": {
      "text/plain": [
       "44"
      ]
     },
     "execution_count": 6,
     "metadata": {},
     "output_type": "execute_result"
    }
   ],
   "source": [
    "env.observation_space.sample()"
   ]
  },
  {
   "cell_type": "code",
   "execution_count": 7,
   "metadata": {},
   "outputs": [
    {
     "name": "stdout",
     "output_type": "stream",
     "text": [
      "36\n",
      "-96007\n",
      "done\n",
      "\n",
      "36\n",
      "-58430\n",
      "done\n",
      "\n",
      "36\n",
      "-174913\n",
      "done\n",
      "\n"
     ]
    }
   ],
   "source": [
    "#random policy\n",
    "\n",
    "for i in range(3):\n",
    "    state = env.reset()\n",
    "    total_reward = 0\n",
    "    print(state)\n",
    "    while True:\n",
    "        #print(state)\n",
    "        action = env.action_space.sample()\n",
    "        state, reward, done, info = env.step(action)\n",
    "        total_reward+=reward\n",
    "        if done:\n",
    "            print(total_reward)\n",
    "            print(\"done\\n\")\n",
    "            break"
   ]
  },
  {
   "cell_type": "code",
   "execution_count": 8,
   "metadata": {},
   "outputs": [],
   "source": [
    "def max_index(q_state):\n",
    "    max = 0\n",
    "    index = 0\n",
    "    \n",
    "    for i in range(len(q_state)):\n",
    "        if q_state[i]>max:\n",
    "            max = q_state[i]\n",
    "            index = i\n",
    "    return index"
   ]
  },
  {
   "cell_type": "code",
   "execution_count": 23,
   "metadata": {},
   "outputs": [],
   "source": [
    "def select_action(env,q_s,episode_i):\n",
    "    \n",
    "    epsilon = 1/episode_i\n",
    "    probs = np.ones(env.action_space.n)*(epsilon/env.action_space.n)\n",
    "    probs[np.argmax(q_s)] = (1-epsilon)+(epsilon/env.action_space.n)\n",
    "    action = np.random.choice(np.arange(env.action_space.n),p=probs)\n",
    "    return action"
   ]
  },
  {
   "cell_type": "code",
   "execution_count": 26,
   "metadata": {},
   "outputs": [],
   "source": [
    "def sarsa(env,num_episodes,alpha,gamma=1):\n",
    "    \n",
    "    \n",
    "    q = {}\n",
    "    #Initialise q table\n",
    "    for i in range(env.observation_space.n):\n",
    "        q[i] = np.zeros(env.action_space.n)\n",
    "    \n",
    "    for episode_i in range(1,num_episodes+1):\n",
    "        if episode_i % 1 == 0:\n",
    "            print(\"\\rEpisode {}/{}\".format(episode_i, num_episodes), end=\"\")\n",
    "            sys.stdout.flush()\n",
    "        \n",
    "        state = env.reset()\n",
    "        action = select_action(env,q[state],episode_i)\n",
    "        #Limiting the number of time steps in an episode\n",
    "        for t_step in range(300):\n",
    "            new_state, reward, done, info = env.step(action)\n",
    "            new_action = select_action(env,q[state],episode_i)\n",
    "            d_reward = reward+gamma*q[new_state][new_action]\n",
    "            q[state][action] = q[state][action]+alpha*(d_reward-q[state][action])\n",
    "            state = new_state\n",
    "            action = new_action\n",
    "            if done:\n",
    "                break\n",
    "    return q"
   ]
  },
  {
   "cell_type": "code",
   "execution_count": 27,
   "metadata": {},
   "outputs": [
    {
     "name": "stdout",
     "output_type": "stream",
     "text": [
      "Episode 5000/5000"
     ]
    }
   ],
   "source": [
    "q = sarsa(env,5000,0.01)"
   ]
  },
  {
   "cell_type": "code",
   "execution_count": 28,
   "metadata": {},
   "outputs": [
    {
     "data": {
      "text/plain": [
       "{0: array([-22.99303615, -21.99644446, -22.0176181 , -22.01367752]),\n",
       " 1: array([ -5.35295096, -21.00098722, -62.2753372 , -23.15942669]),\n",
       " 2: array([-20.00534957, -19.00867388, -19.06985689, -19.03224455]),\n",
       " 3: array([ -1.65960322, -18.0108644 ,  -1.61219125, -12.83455701]),\n",
       " 4: array([ -1.49692908, -15.010465  , -17.01200675,  -1.60448012]),\n",
       " 5: array([-14.00798042, -13.00513749, -19.6535723 , -18.31650145]),\n",
       " 6: array([ -0.60513972, -12.00260946,  -0.60626536, -11.54132686]),\n",
       " 7: array([-11.00069326,  -9.9991788 , -10.15319797, -10.03782336]),\n",
       " 8: array([-4.04038686, -8.99759431, -4.74867442, -8.50112986]),\n",
       " 9: array([ -7.99573447,  -6.99415251, -12.94528431,  -7.01951473]),\n",
       " 10: array([-1.93610741, -5.9940279 , -2.03916442, -6.05769867]),\n",
       " 11: array([-4.99594969, -4.23149415, -3.9986314 , -4.04160979]),\n",
       " 12: array([-23.99160425, -24.64981771, -23.99926402, -24.99197525]),\n",
       " 13: array([-23.91415636, -23.81412624, -10.01775221,  -9.99079029]),\n",
       " 14: array([ -1.42394962, -12.60950414, -25.02293403, -28.98887538]),\n",
       " 15: array([-12.57123945, -11.29541791,  -3.36576805,  -1.52961049]),\n",
       " 16: array([-16.01191664,  -0.67897654,  -1.91389831, -11.22562064]),\n",
       " 17: array([-20.56491248, -19.62647019,  -4.20492069,  -0.05369409]),\n",
       " 18: array([ -0.31889896,  -1.90628413,  -1.2917202 , -20.22878246]),\n",
       " 19: array([ -4.18345254,  -4.21856573, -23.13779938,  -4.16931969]),\n",
       " 20: array([ -3.59029706, -14.10118918, -76.16364056,  -0.97701485]),\n",
       " 21: array([-12.7723586 , -13.55024614,  -0.15886074, -39.69859323]),\n",
       " 22: array([ -0.18956866,  -3.11916423, -13.95153906, -13.22839495]),\n",
       " 23: array([-4.14624709, -2.23866241, -3.00000001, -2.34144262]),\n",
       " 24: array([-25.99321101, -14.02146431, -24.40158509, -14.02133949]),\n",
       " 25: array([ -2.75550703, -15.80701499, -28.35826083, -10.06661116]),\n",
       " 26: array([-29.93062281, -21.10989394, -17.75971221,  -0.61457492]),\n",
       " 27: array([ -1.82470017,  -0.09338692, -22.5617989 , -20.90510598]),\n",
       " 28: array([-4.50351710e-02, -7.40772364e+00, -6.88599880e+01, -2.09008972e-02]),\n",
       " 29: array([ -0.05717497,  -1.04352755,   0.        , -30.64060991]),\n",
       " 30: array([-3.34367219e+00, -1.01010000e-02, -1.79137340e+01, -4.00872560e-01]),\n",
       " 31: array([  -0.59091282,  -57.78507034, -113.84101782,   -0.26630937]),\n",
       " 32: array([ -32.76497845,   -0.88316411,    0.        , -104.33469791]),\n",
       " 33: array([ -0.04019507,   0.        , -17.64604602,  -0.03000198]),\n",
       " 34: array([-13.78506625,  -2.89901642, -49.30259998,  -0.06727992]),\n",
       " 35: array([ -1.04417232,  -2.        ,  -1.        , -13.61426879]),\n",
       " 36: array([-26.99420945, -70.40995729, -27.00088375, -27.00831179]),\n",
       " 37: array([0., 0., 0., 0.]),\n",
       " 38: array([0., 0., 0., 0.]),\n",
       " 39: array([0., 0., 0., 0.]),\n",
       " 40: array([0., 0., 0., 0.]),\n",
       " 41: array([0., 0., 0., 0.]),\n",
       " 42: array([0., 0., 0., 0.]),\n",
       " 43: array([0., 0., 0., 0.]),\n",
       " 44: array([0., 0., 0., 0.]),\n",
       " 45: array([0., 0., 0., 0.]),\n",
       " 46: array([0., 0., 0., 0.]),\n",
       " 47: array([0., 0., 0., 0.])}"
      ]
     },
     "execution_count": 28,
     "metadata": {},
     "output_type": "execute_result"
    }
   ],
   "source": [
    "q"
   ]
  },
  {
   "cell_type": "code",
   "execution_count": null,
   "metadata": {},
   "outputs": [],
   "source": []
  }
 ],
 "metadata": {
  "kernelspec": {
   "display_name": "Python 3",
   "language": "python",
   "name": "python3"
  },
  "language_info": {
   "codemirror_mode": {
    "name": "ipython",
    "version": 3
   },
   "file_extension": ".py",
   "mimetype": "text/x-python",
   "name": "python",
   "nbconvert_exporter": "python",
   "pygments_lexer": "ipython3",
   "version": "3.6.8"
  }
 },
 "nbformat": 4,
 "nbformat_minor": 2
}
