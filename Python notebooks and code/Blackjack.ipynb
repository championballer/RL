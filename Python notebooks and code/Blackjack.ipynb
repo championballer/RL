{
 "cells": [
  {
   "cell_type": "code",
   "execution_count": 43,
   "metadata": {},
   "outputs": [],
   "source": [
    "import gym\n",
    "import numpy as np\n",
    "from collections import defaultdict\n",
    "import sys"
   ]
  },
  {
   "cell_type": "code",
   "execution_count": 17,
   "metadata": {},
   "outputs": [],
   "source": [
    "env = gym.make(\"Blackjack-v0\")"
   ]
  },
  {
   "cell_type": "code",
   "execution_count": 18,
   "metadata": {},
   "outputs": [
    {
     "data": {
      "text/plain": [
       "Tuple(Discrete(32), Discrete(11), Discrete(2))"
      ]
     },
     "execution_count": 18,
     "metadata": {},
     "output_type": "execute_result"
    }
   ],
   "source": [
    "#observation is a tuple of the current sum of the player, the dealer's face up card, and a bool whether the ace if present is useable or not\n",
    "env.observation_space"
   ]
  },
  {
   "cell_type": "code",
   "execution_count": 19,
   "metadata": {},
   "outputs": [
    {
     "data": {
      "text/plain": [
       "Discrete(2)"
      ]
     },
     "execution_count": 19,
     "metadata": {},
     "output_type": "execute_result"
    }
   ],
   "source": [
    "env.action_space"
   ]
  },
  {
   "cell_type": "code",
   "execution_count": 20,
   "metadata": {},
   "outputs": [
    {
     "name": "stdout",
     "output_type": "stream",
     "text": [
      "(12, 5, 0)\n"
     ]
    }
   ],
   "source": [
    "print(env.observation_space.sample())"
   ]
  },
  {
   "cell_type": "code",
   "execution_count": 21,
   "metadata": {},
   "outputs": [
    {
     "name": "stdout",
     "output_type": "stream",
     "text": [
      "1\n"
     ]
    }
   ],
   "source": [
    "print(env.action_space.sample())"
   ]
  },
  {
   "cell_type": "code",
   "execution_count": 22,
   "metadata": {},
   "outputs": [
    {
     "name": "stdout",
     "output_type": "stream",
     "text": [
      "episode: 0\n",
      "(15, 3, False)\n",
      "(25, 3, False) -1 True {}\n",
      "You lost\n",
      "\n",
      "episode: 1\n",
      "(7, 2, False)\n",
      "(18, 2, True) 0 False {}\n",
      "(21, 2, True) 0 False {}\n",
      "(21, 2, False) 0 False {}\n",
      "(28, 2, False) -1 True {}\n",
      "You lost\n",
      "\n",
      "episode: 2\n",
      "(12, 10, False)\n",
      "(19, 10, False) 0 False {}\n",
      "(19, 10, False) 1.0 True {}\n",
      "You won\n",
      "\n"
     ]
    }
   ],
   "source": [
    "#equi-probable policy based episode generation\n",
    "\n",
    "for episode_i in range(3):\n",
    "    print(\"episode:\", episode_i)\n",
    "    state = env.reset()\n",
    "    print(state)\n",
    "    while True:\n",
    "        action = env.action_space.sample()\n",
    "        state, reward, done, info = env.step(action)\n",
    "        print(state, reward, done, info)\n",
    "        if done:\n",
    "            if reward==1:\n",
    "                print(\"You won\")\n",
    "            elif reward==-1:\n",
    "                print(\"You lost\")\n",
    "            else:\n",
    "                print(\"You drew\")\n",
    "            print()\n",
    "            break"
   ]
  },
  {
   "cell_type": "code",
   "execution_count": 23,
   "metadata": {},
   "outputs": [],
   "source": [
    "def gen_episode_stochastic(bj_env):\n",
    "    \n",
    "    episode = []\n",
    "    state = bj_env.reset()\n",
    "    probs = [0,0]\n",
    "    while True:\n",
    "        if state[0]>18:\n",
    "            probs = [0.8,0.2]\n",
    "        else:\n",
    "            probs = [0.2,0.8]\n",
    "        action = np.random.choice(np.arange(2),p=probs)\n",
    "        state_n, reward, done, info = bj_env.step(action)\n",
    "        episode.append((state,action,reward))\n",
    "        state = state_n\n",
    "        if done:\n",
    "            return episode"
   ]
  },
  {
   "cell_type": "code",
   "execution_count": 24,
   "metadata": {},
   "outputs": [
    {
     "name": "stdout",
     "output_type": "stream",
     "text": [
      "[((19, 6, False), 0, 1.0)]\n",
      "[((15, 7, False), 1, 0), ((20, 7, False), 0, 1.0)]\n",
      "[((19, 10, False), 0, 1.0)]\n"
     ]
    }
   ],
   "source": [
    "for episode_i in range(3):\n",
    "    print(gen_episode_stochastic(env))"
   ]
  },
  {
   "cell_type": "code",
   "execution_count": 25,
   "metadata": {},
   "outputs": [],
   "source": [
    "def gen_episode_det(bj_env):\n",
    "    \n",
    "    episode = []\n",
    "    state = bj_env.reset()\n",
    "    \n",
    "    while True:\n",
    "        if state[0]>18:\n",
    "            action = 0\n",
    "        else:\n",
    "            action = 1\n",
    "        next_state,reward,done,info = bj_env.step(action)\n",
    "        episode.append((state,action,reward))\n",
    "        state = next_state\n",
    "        if done:\n",
    "            return episode"
   ]
  },
  {
   "cell_type": "code",
   "execution_count": 26,
   "metadata": {},
   "outputs": [
    {
     "name": "stdout",
     "output_type": "stream",
     "text": [
      "[((18, 3, True), 1, 0), ((21, 3, True), 0, 0.0)]\n",
      "[((7, 8, False), 1, 0), ((17, 8, False), 1, -1)]\n",
      "[((20, 7, False), 0, 1.0)]\n"
     ]
    }
   ],
   "source": [
    "for episode_i in range(3):\n",
    "    print(gen_episode_det(env))"
   ]
  },
  {
   "cell_type": "code",
   "execution_count": 27,
   "metadata": {},
   "outputs": [],
   "source": [
    "N = defaultdict(lambda:np.zeros(env.action_space.n))"
   ]
  },
  {
   "cell_type": "code",
   "execution_count": 28,
   "metadata": {},
   "outputs": [
    {
     "name": "stdout",
     "output_type": "stream",
     "text": [
      "defaultdict(<function <lambda> at 0x1047e7598>, {})\n"
     ]
    }
   ],
   "source": [
    "print(N)"
   ]
  },
  {
   "cell_type": "code",
   "execution_count": 29,
   "metadata": {},
   "outputs": [],
   "source": [
    "returns_sum = defaultdict(lambda: np.zeros(env.action_space.n))"
   ]
  },
  {
   "cell_type": "code",
   "execution_count": 30,
   "metadata": {},
   "outputs": [
    {
     "name": "stdout",
     "output_type": "stream",
     "text": [
      "defaultdict(<function <lambda> at 0x1a13811840>, {})\n"
     ]
    }
   ],
   "source": [
    "print(returns_sum)"
   ]
  },
  {
   "cell_type": "code",
   "execution_count": 53,
   "metadata": {},
   "outputs": [],
   "source": [
    "#For black jack, evmc and fvmc are equivalent since a state generally won't repeat in an episode.\n",
    "\n",
    "def evmc_q_table(num_episodes,env,gamma=1):\n",
    "    returns_sum = defaultdict(lambda:np.zeros(env.action_space.n))\n",
    "    N = defaultdict(lambda:np.zeros(env.action_space.n))\n",
    "    Q = defaultdict(lambda:np.zeros(env.action_space.n))\n",
    "\n",
    "    for episode_i in range(num_episodes):\n",
    "        episode = gen_episode_stochastic(env)\n",
    "        states,actions,rewards = zip(*episode)\n",
    "        for state in states:\n",
    "            for action \n",
    "            returns_sum[state][item[1]]+=item[2]\n",
    "            N[item[0]][item[1]]+=1\n",
    "#     print(returns_sum.keys())\n",
    "#     print(returns_sum.values())\n",
    "#     print()\n",
    "#     for k in returns_sum.keys():\n",
    "#         print(returns_sum[k],end=\" \")\n",
    "#         print(N[k])\n",
    "        \n",
    "#     for k in returns_sum.keys():\n",
    "#         for action in range(env.action_space.n):\n",
    "#             Q[k][action] = returns_sum[k][action]/N[k][action]\n",
    "    return Q"
   ]
  },
  {
   "cell_type": "code",
   "execution_count": 54,
   "metadata": {},
   "outputs": [
    {
     "name": "stdout",
     "output_type": "stream",
     "text": [
      "((6, 4, False),)\n",
      "(0,)\n",
      "(-1.0,)\n",
      "((11, 10, False), (19, 10, False))\n",
      "(1, 1)\n",
      "(0, -1)\n",
      "((20, 4, False),)\n",
      "(0,)\n",
      "(1.0,)\n"
     ]
    },
    {
     "data": {
      "text/plain": [
       "defaultdict(<function __main__.evmc_q_table.<locals>.<lambda>()>, {})"
      ]
     },
     "execution_count": 54,
     "metadata": {},
     "output_type": "execute_result"
    }
   ],
   "source": [
    "Q_table = evmc_q_table(3,env)\n",
    "Q_table"
   ]
  },
  {
   "cell_type": "code",
   "execution_count": 39,
   "metadata": {},
   "outputs": [
    {
     "data": {
      "text/plain": [
       "280"
      ]
     },
     "execution_count": 39,
     "metadata": {},
     "output_type": "execute_result"
    }
   ],
   "source": [
    "len(list(Q_table.keys()))"
   ]
  },
  {
   "cell_type": "code",
   "execution_count": 13,
   "metadata": {},
   "outputs": [
    {
     "data": {
      "text/plain": [
       "array([[4., 5.],\n",
       "       [5., 5.]])"
      ]
     },
     "execution_count": 13,
     "metadata": {},
     "output_type": "execute_result"
    }
   ],
   "source": [
    "a1 = np.array([[20,10],[30,25]])\n",
    "a2 = np.array([[5,2],[6,5]])\n",
    "a3 = a1/a2\n",
    "\n",
    "a3"
   ]
  },
  {
   "cell_type": "code",
   "execution_count": null,
   "metadata": {},
   "outputs": [],
   "source": []
  }
 ],
 "metadata": {
  "kernelspec": {
   "display_name": "Python 3",
   "language": "python",
   "name": "python3"
  },
  "language_info": {
   "codemirror_mode": {
    "name": "ipython",
    "version": 3
   },
   "file_extension": ".py",
   "mimetype": "text/x-python",
   "name": "python",
   "nbconvert_exporter": "python",
   "pygments_lexer": "ipython3",
   "version": "3.6.8"
  }
 },
 "nbformat": 4,
 "nbformat_minor": 2
}
