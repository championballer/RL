{
 "cells": [
  {
   "cell_type": "code",
   "execution_count": 43,
   "metadata": {},
   "outputs": [],
   "source": [
    "import gym\n",
    "import numpy as np\n",
    "from collections import defaultdict\n",
    "import sys"
   ]
  },
  {
   "cell_type": "code",
   "execution_count": 17,
   "metadata": {},
   "outputs": [],
   "source": [
    "env = gym.make(\"Blackjack-v0\")"
   ]
  },
  {
   "cell_type": "code",
   "execution_count": 18,
   "metadata": {},
   "outputs": [
    {
     "data": {
      "text/plain": [
       "Tuple(Discrete(32), Discrete(11), Discrete(2))"
      ]
     },
     "execution_count": 18,
     "metadata": {},
     "output_type": "execute_result"
    }
   ],
   "source": [
    "#observation is a tuple of the current sum of the player, the dealer's face up card, and a bool whether the ace if present is useable or not\n",
    "env.observation_space"
   ]
  },
  {
   "cell_type": "code",
   "execution_count": 19,
   "metadata": {},
   "outputs": [
    {
     "data": {
      "text/plain": [
       "Discrete(2)"
      ]
     },
     "execution_count": 19,
     "metadata": {},
     "output_type": "execute_result"
    }
   ],
   "source": [
    "env.action_space"
   ]
  },
  {
   "cell_type": "code",
   "execution_count": 20,
   "metadata": {},
   "outputs": [
    {
     "name": "stdout",
     "output_type": "stream",
     "text": [
      "(12, 5, 0)\n"
     ]
    }
   ],
   "source": [
    "print(env.observation_space.sample())"
   ]
  },
  {
   "cell_type": "code",
   "execution_count": 21,
   "metadata": {},
   "outputs": [
    {
     "name": "stdout",
     "output_type": "stream",
     "text": [
      "1\n"
     ]
    }
   ],
   "source": [
    "print(env.action_space.sample())"
   ]
  },
  {
   "cell_type": "code",
   "execution_count": 22,
   "metadata": {},
   "outputs": [
    {
     "name": "stdout",
     "output_type": "stream",
     "text": [
      "episode: 0\n",
      "(15, 3, False)\n",
      "(25, 3, False) -1 True {}\n",
      "You lost\n",
      "\n",
      "episode: 1\n",
      "(7, 2, False)\n",
      "(18, 2, True) 0 False {}\n",
      "(21, 2, True) 0 False {}\n",
      "(21, 2, False) 0 False {}\n",
      "(28, 2, False) -1 True {}\n",
      "You lost\n",
      "\n",
      "episode: 2\n",
      "(12, 10, False)\n",
      "(19, 10, False) 0 False {}\n",
      "(19, 10, False) 1.0 True {}\n",
      "You won\n",
      "\n"
     ]
    }
   ],
   "source": [
    "#equi-probable policy based episode generation\n",
    "\n",
    "for episode_i in range(3):\n",
    "    print(\"episode:\", episode_i)\n",
    "    state = env.reset()\n",
    "    print(state)\n",
    "    while True:\n",
    "        action = env.action_space.sample()\n",
    "        state, reward, done, info = env.step(action)\n",
    "        print(state, reward, done, info)\n",
    "        if done:\n",
    "            if reward==1:\n",
    "                print(\"You won\")\n",
    "            elif reward==-1:\n",
    "                print(\"You lost\")\n",
    "            else:\n",
    "                print(\"You drew\")\n",
    "            print()\n",
    "            break"
   ]
  },
  {
   "cell_type": "code",
   "execution_count": 23,
   "metadata": {},
   "outputs": [],
   "source": [
    "def gen_episode_stochastic(bj_env):\n",
    "    \n",
    "    episode = []\n",
    "    state = bj_env.reset()\n",
    "    probs = [0,0]\n",
    "    while True:\n",
    "        if state[0]>18:\n",
    "            probs = [0.8,0.2]\n",
    "        else:\n",
    "            probs = [0.2,0.8]\n",
    "        action = np.random.choice(np.arange(2),p=probs)\n",
    "        state_n, reward, done, info = bj_env.step(action)\n",
    "        episode.append((state,action,reward))\n",
    "        state = state_n\n",
    "        if done:\n",
    "            return episode"
   ]
  },
  {
   "cell_type": "code",
   "execution_count": 24,
   "metadata": {},
   "outputs": [
    {
     "name": "stdout",
     "output_type": "stream",
     "text": [
      "[((19, 6, False), 0, 1.0)]\n",
      "[((15, 7, False), 1, 0), ((20, 7, False), 0, 1.0)]\n",
      "[((19, 10, False), 0, 1.0)]\n"
     ]
    }
   ],
   "source": [
    "for episode_i in range(3):\n",
    "    print(gen_episode_stochastic(env))"
   ]
  },
  {
   "cell_type": "code",
   "execution_count": 25,
   "metadata": {},
   "outputs": [],
   "source": [
    "def gen_episode_det(bj_env):\n",
    "    \n",
    "    episode = []\n",
    "    state = bj_env.reset()\n",
    "    \n",
    "    while True:\n",
    "        if state[0]>18:\n",
    "            action = 0\n",
    "        else:\n",
    "            action = 1\n",
    "        next_state,reward,done,info = bj_env.step(action)\n",
    "        episode.append((state,action,reward))\n",
    "        state = next_state\n",
    "        if done:\n",
    "            return episode"
   ]
  },
  {
   "cell_type": "code",
   "execution_count": 26,
   "metadata": {},
   "outputs": [
    {
     "name": "stdout",
     "output_type": "stream",
     "text": [
      "[((18, 3, True), 1, 0), ((21, 3, True), 0, 0.0)]\n",
      "[((7, 8, False), 1, 0), ((17, 8, False), 1, -1)]\n",
      "[((20, 7, False), 0, 1.0)]\n"
     ]
    }
   ],
   "source": [
    "for episode_i in range(3):\n",
    "    print(gen_episode_det(env))"
   ]
  },
  {
   "cell_type": "code",
   "execution_count": 27,
   "metadata": {},
   "outputs": [],
   "source": [
    "N = defaultdict(lambda:np.zeros(env.action_space.n))"
   ]
  },
  {
   "cell_type": "code",
   "execution_count": 28,
   "metadata": {},
   "outputs": [
    {
     "name": "stdout",
     "output_type": "stream",
     "text": [
      "defaultdict(<function <lambda> at 0x1047e7598>, {})\n"
     ]
    }
   ],
   "source": [
    "print(N)"
   ]
  },
  {
   "cell_type": "code",
   "execution_count": 29,
   "metadata": {},
   "outputs": [],
   "source": [
    "returns_sum = defaultdict(lambda: np.zeros(env.action_space.n))"
   ]
  },
  {
   "cell_type": "code",
   "execution_count": 30,
   "metadata": {},
   "outputs": [
    {
     "name": "stdout",
     "output_type": "stream",
     "text": [
      "defaultdict(<function <lambda> at 0x1a13811840>, {})\n"
     ]
    }
   ],
   "source": [
    "print(returns_sum)"
   ]
  },
  {
   "cell_type": "code",
   "execution_count": 120,
   "metadata": {},
   "outputs": [],
   "source": [
    "#For black jack, evmc and fvmc are equivalent since a state generally won't repeat in an episode.\n",
    "\n",
    "def evmc_q_table(num_episodes,env,gamma=1):\n",
    "    returns_sum = defaultdict(lambda:np.zeros(env.action_space.n))\n",
    "    N = defaultdict(lambda:np.zeros(env.action_space.n))\n",
    "    Q = defaultdict(lambda:np.zeros(env.action_space.n))\n",
    "\n",
    "    for episode_i in range(num_episodes):\n",
    "        episode = gen_episode_stochastic(env)\n",
    "        states,actions,rewards = zip(*episode)\n",
    "        for index,item in enumerate(episode):\n",
    "            rewards = np.array(rewards)\n",
    "            discounting = np.array([gamma**i for i in range(len(rewards))])\n",
    "#             print(discounting)\n",
    "#             print(rewards[index:])\n",
    "            returns_sum[item[0]][item[1]]+=np.sum(np.array(discounting*rewards))\n",
    "            N[item[0]][item[1]]+=1\n",
    "            Q[item[0]][item[1]] = returns_sum[item[0]][item[1]]/N[item[0]][item[1]]\n",
    "#     print(returns_sum.keys())\n",
    "#     print(returns_sum.values())\n",
    "#     print()\n",
    "#     for k in returns_sum.keys():\n",
    "#         print(returns_sum[k],end=\" \")\n",
    "#         print(N[k])\n",
    "#         print()\n",
    "    \n",
    "#     for k in returns_sum.keys():\n",
    "#             Q[k] = returns_sum[k]/N[k]\n",
    "    return Q"
   ]
  },
  {
   "cell_type": "code",
   "execution_count": 123,
   "metadata": {},
   "outputs": [
    {
     "data": {
      "text/plain": [
       "defaultdict(<function __main__.evmc_q_table.<locals>.<lambda>()>,\n",
       "            {(11, 3, False): array([-0.19907407, -0.05413271]),\n",
       "             (16, 3, False): array([-0.29032258, -0.61918438]),\n",
       "             (12, 1, False): array([-0.75615213, -0.65523307]),\n",
       "             (17, 1, False): array([-0.62921348, -0.74083264]),\n",
       "             (15, 6, False): array([-0.14835787, -0.55508475]),\n",
       "             (17, 3, True): array([-0.01840491, -0.30417495]),\n",
       "             (14, 3, False): array([-0.225     , -0.54915536]),\n",
       "             (12, 9, False): array([-0.5159516, -0.4886231]),\n",
       "             (13, 9, False): array([-0.53970081, -0.51422135]),\n",
       "             (14, 9, False): array([-0.50845547, -0.56087824]),\n",
       "             (20, 9, False): array([ 0.74863495, -0.88342585]),\n",
       "             (18, 9, False): array([-0.17272727, -0.69059406]),\n",
       "             (10, 10, False): array([-0.54724677, -0.23942677]),\n",
       "             (20, 10, False): array([ 0.43353175, -0.8837535 ]),\n",
       "             (14, 10, False): array([-0.59613746, -0.61717428]),\n",
       "             (21, 10, True): array([ 0.89484979, -0.17160775]),\n",
       "             (19, 10, False): array([-0.01279772, -0.78447045]),\n",
       "             (15, 10, False): array([-0.59756772, -0.65128845]),\n",
       "             (21, 10, False): array([ 0.8836187, -1.       ]),\n",
       "             (10, 9, False): array([-0.5640327 , -0.13932739]),\n",
       "             (13, 4, False): array([-0.23681257, -0.48537683]),\n",
       "             (19, 4, False): array([ 0.40600227, -0.75630252]),\n",
       "             (17, 6, False): array([ 0.0198895, -0.6366318]),\n",
       "             (19, 6, False): array([ 0.506613  , -0.76781609]),\n",
       "             (21, 6, False): array([ 0.89000876, -1.        ]),\n",
       "             (18, 7, False): array([ 0.37949836, -0.66891527]),\n",
       "             (15, 7, False): array([-0.51388889, -0.57047167]),\n",
       "             (16, 10, False): array([-0.58365759, -0.67794951]),\n",
       "             (18, 10, False): array([-0.23618785, -0.73302459]),\n",
       "             (19, 3, True): array([ 0.40672269, -0.05960265]),\n",
       "             (21, 7, True): array([ 0.93015332, -0.06008584]),\n",
       "             (11, 7, False): array([-0.50551876, -0.05070755]),\n",
       "             (16, 7, False): array([-0.42307692, -0.59560867]),\n",
       "             (20, 7, False): array([ 0.76906275, -0.88817891]),\n",
       "             (9, 10, False): array([-0.57037037, -0.38792924]),\n",
       "             (12, 10, False): array([-0.58311346, -0.57041437]),\n",
       "             (20, 5, False): array([ 0.66184054, -0.87004754]),\n",
       "             (13, 10, False): array([-0.58330867, -0.5978602 ]),\n",
       "             (13, 5, False): array([-0.12093023, -0.5025395 ]),\n",
       "             (14, 8, False): array([-0.52941176, -0.53567384]),\n",
       "             (19, 9, False): array([ 0.29300999, -0.73785311]),\n",
       "             (17, 9, False): array([-0.44108108, -0.65652655]),\n",
       "             (14, 6, False): array([-0.15243243, -0.52347084]),\n",
       "             (18, 6, False): array([ 0.29540481, -0.67433481]),\n",
       "             (15, 2, False): array([-0.31910112, -0.57933884]),\n",
       "             (20, 6, False): array([ 0.70324389, -0.87660256]),\n",
       "             (15, 5, True): array([-0.0862069 , -0.24815725]),\n",
       "             (15, 5, False): array([-0.21269841, -0.56746252]),\n",
       "             (6, 8, False): array([-0.56716418, -0.43678161]),\n",
       "             (18, 9, True): array([-0.20437956, -0.33460803]),\n",
       "             (10, 3, False): array([-0.25183374, -0.09886202]),\n",
       "             (19, 3, False): array([ 0.39658072, -0.80785563]),\n",
       "             (12, 5, False): array([-0.21      , -0.43903168]),\n",
       "             (17, 5, False): array([-0.00334448, -0.66738895]),\n",
       "             (11, 4, False): array([-0.14767932, -0.03642573]),\n",
       "             (14, 4, False): array([-0.1481888 , -0.53013076]),\n",
       "             (15, 4, False): array([-0.1657754 , -0.56329114]),\n",
       "             (20, 4, False): array([ 0.66679522, -0.86499596]),\n",
       "             (14, 2, False): array([-0.30841121, -0.5209276 ]),\n",
       "             (21, 1, True): array([ 0.64495677, -0.25183374]),\n",
       "             (17, 10, False): array([-0.49141347, -0.69786639]),\n",
       "             (18, 1, False): array([-0.38183935, -0.76530332]),\n",
       "             (21, 1, False): array([ 0.65876337, -1.        ]),\n",
       "             (8, 6, False): array([-0.18548387, -0.31799591]),\n",
       "             (11, 5, False): array([-0.17346939, -0.05587893]),\n",
       "             (19, 5, False): array([ 0.42207973, -0.76276958]),\n",
       "             (19, 2, False): array([ 0.37430323, -0.78791209]),\n",
       "             (11, 8, False): array([-0.54326923, -0.04539952]),\n",
       "             (16, 8, False): array([-0.4671126 , -0.59167862]),\n",
       "             (11, 10, False): array([-0.5645933 , -0.16940863]),\n",
       "             (12, 4, False): array([-0.2897407 , -0.47402968]),\n",
       "             (17, 4, False): array([-0.05784205, -0.66168072]),\n",
       "             (6, 3, False): array([-0.27819549, -0.33638026]),\n",
       "             (20, 2, False): array([ 0.64950931, -0.87808896]),\n",
       "             (9, 7, False): array([-0.45833333, -0.15      ]),\n",
       "             (12, 7, False): array([-0.43674367, -0.43334301]),\n",
       "             (17, 7, False): array([-0.06942889, -0.60809343]),\n",
       "             (12, 2, False): array([-0.22711864, -0.47204611]),\n",
       "             (18, 4, False): array([ 0.19458897, -0.69797728]),\n",
       "             (16, 5, False): array([-0.14761376, -0.60518164]),\n",
       "             (20, 8, False): array([ 0.79411765, -0.87448728]),\n",
       "             (11, 1, False): array([-0.77184466, -0.27577938]),\n",
       "             (16, 1, False): array([-0.7524644 , -0.72002231]),\n",
       "             (13, 8, False): array([-0.48036952, -0.47841307]),\n",
       "             (15, 3, True): array([-0.27083333, -0.18160377]),\n",
       "             (15, 3, False): array([-0.20090806, -0.58430718]),\n",
       "             (20, 10, True): array([ 0.4484375 , -0.21216617]),\n",
       "             (11, 9, False): array([-0.53379953, -0.09591474]),\n",
       "             (16, 9, False): array([-0.54648526, -0.62729013]),\n",
       "             (21, 2, False): array([ 0.8931903, -1.       ]),\n",
       "             (18, 3, False): array([ 0.17738359, -0.66558966]),\n",
       "             (14, 7, False): array([-0.44181034, -0.51703461]),\n",
       "             (19, 7, False): array([ 0.60291289, -0.78928987]),\n",
       "             (12, 8, False): array([-0.52643678, -0.49155937]),\n",
       "             (18, 8, False): array([ 0.09955752, -0.66185453]),\n",
       "             (5, 6, False): array([-0.12244898, -0.31070496]),\n",
       "             (9, 6, False): array([-0.18149466, -0.15301902]),\n",
       "             (16, 10, True): array([-0.54618474, -0.38930481]),\n",
       "             (16, 4, False): array([-0.23809524, -0.60037879]),\n",
       "             (20, 3, False): array([ 0.65523502, -0.87900641]),\n",
       "             (7, 3, False): array([-0.36470588, -0.41742523]),\n",
       "             (17, 3, False): array([-0.08789954, -0.6491913 ]),\n",
       "             (13, 1, True): array([-0.82608696, -0.4529703 ]),\n",
       "             (14, 10, True): array([-0.60093897, -0.31857319]),\n",
       "             (21, 9, False): array([ 0.9468906, -1.       ]),\n",
       "             (21, 9, True): array([ 0.93901036, -0.03348214]),\n",
       "             (15, 2, True): array([-0.4368932 , -0.29545455]),\n",
       "             (19, 2, True): array([ 0.34974533, -0.11971831]),\n",
       "             (20, 6, True): array([ 0.672     , -0.08552632]),\n",
       "             (13, 7, False): array([-0.49246813, -0.50028121]),\n",
       "             (15, 6, True): array([-0.19230769, -0.1838565 ]),\n",
       "             (13, 6, False): array([-0.13981043, -0.4613827 ]),\n",
       "             (13, 4, True): array([-0.19148936, -0.15555556]),\n",
       "             (6, 10, False): array([-0.59550562, -0.56481906]),\n",
       "             (8, 10, False): array([-0.57100298, -0.55142119]),\n",
       "             (7, 7, False): array([-0.51515152, -0.41338583]),\n",
       "             (6, 1, False): array([-0.85234899, -0.61481481]),\n",
       "             (20, 1, False): array([ 0.15182106, -0.88364524]),\n",
       "             (18, 6, True): array([ 0.22463768, -0.2593985 ]),\n",
       "             (20, 4, True): array([ 0.66292135, -0.07017544]),\n",
       "             (13, 2, False): array([-0.23777019, -0.51024531]),\n",
       "             (6, 5, False): array([-0.19117647, -0.38644689]),\n",
       "             (14, 1, False): array([-0.77136259, -0.67003084]),\n",
       "             (5, 3, False): array([-0.28888889, -0.43922652]),\n",
       "             (7, 8, False): array([-0.45454545, -0.48314607]),\n",
       "             (17, 8, False): array([-0.40985442, -0.63520971]),\n",
       "             (21, 7, False): array([ 0.92640076, -1.        ]),\n",
       "             (12, 3, False): array([-0.2201722 , -0.45670225]),\n",
       "             (13, 3, False): array([-0.28306265, -0.48845932]),\n",
       "             (8, 5, False): array([-0.18181818, -0.34270833]),\n",
       "             (19, 5, True): array([ 0.46746575, -0.11184211]),\n",
       "             (18, 10, True): array([-0.19210054, -0.40184332]),\n",
       "             (9, 2, False): array([-0.32646048, -0.25887097]),\n",
       "             (4, 8, False): array([-0.51851852, -0.27683616]),\n",
       "             (8, 2, False): array([-0.26315789, -0.39285714]),\n",
       "             (17, 2, False): array([-0.12572088, -0.67327824]),\n",
       "             (12, 6, False): array([-0.14453584, -0.41732283]),\n",
       "             (7, 2, False): array([-0.24752475, -0.40322581]),\n",
       "             (18, 2, False): array([ 0.08376963, -0.68880351]),\n",
       "             (8, 4, False): array([-0.13692946, -0.39878543]),\n",
       "             (16, 2, False): array([-0.29832402, -0.59440943]),\n",
       "             (14, 5, False): array([-0.14860335, -0.55567929]),\n",
       "             (15, 8, False): array([-0.49430524, -0.57752489]),\n",
       "             (5, 4, False): array([-0.30612245, -0.30874317]),\n",
       "             (7, 4, False): array([-0.2893401 , -0.38273196]),\n",
       "             (6, 9, False): array([-0.50344828, -0.46598639]),\n",
       "             (19, 10, True): array([ 0.01173512, -0.30263158]),\n",
       "             (9, 8, False): array([-0.47682119, -0.16036184]),\n",
       "             (13, 1, False): array([-0.76869159, -0.66571916]),\n",
       "             (10, 2, False): array([-0.29100529, -0.11446629]),\n",
       "             (21, 2, True): array([ 0.87635947, -0.08980583]),\n",
       "             (8, 7, False): array([-0.43209877, -0.34417629]),\n",
       "             (5, 8, False): array([-0.46236559, -0.42710997]),\n",
       "             (18, 5, False): array([ 0.1760176 , -0.70561283]),\n",
       "             (7, 9, False): array([-0.47486034, -0.40962099]),\n",
       "             (11, 2, False): array([-0.32338308, -0.08857809]),\n",
       "             (21, 4, True): array([ 0.88691533, -0.03312629]),\n",
       "             (16, 6, False): array([-0.11655012, -0.61201572]),\n",
       "             (15, 1, False): array([-0.73942857, -0.71070423]),\n",
       "             (19, 1, False): array([-0.08930571, -0.80586907]),\n",
       "             (18, 3, True): array([ 0.04895105, -0.26586621]),\n",
       "             (13, 6, True): array([-0.1827957 , -0.14659686]),\n",
       "             (10, 5, False): array([-0.09340659, -0.10391363]),\n",
       "             (5, 10, False): array([-0.53005464, -0.53075916]),\n",
       "             (15, 9, False): array([-0.50492881, -0.59831933]),\n",
       "             (16, 6, True): array([-0.17857143, -0.16736402]),\n",
       "             (19, 6, True): array([ 0.53248811, -0.10958904]),\n",
       "             (17, 5, True): array([-0.02362205, -0.27306273]),\n",
       "             (15, 10, True): array([-0.54475703, -0.37024609]),\n",
       "             (10, 1, False): array([-0.78550725, -0.41249092]),\n",
       "             (19, 8, False): array([ 0.57408451, -0.75167785]),\n",
       "             (21, 4, False): array([ 0.89119171, -1.        ]),\n",
       "             (10, 4, False): array([-0.25729443, -0.03333333]),\n",
       "             (20, 3, True): array([0.67384106, 0.        ]),\n",
       "             (21, 8, False): array([ 0.93012494, -1.        ]),\n",
       "             (19, 1, True): array([-0.13541667, -0.3164557 ]),\n",
       "             (20, 5, True): array([0.63665595, 0.0308642 ]),\n",
       "             (13, 7, True): array([-0.40206186, -0.20143885]),\n",
       "             (20, 7, True): array([ 0.77996965, -0.12941176]),\n",
       "             (14, 9, True): array([-0.48148148, -0.16747573]),\n",
       "             (21, 5, False): array([ 0.89584265, -1.        ]),\n",
       "             (14, 6, True): array([-0.21212121, -0.07      ]),\n",
       "             (17, 6, True): array([-0.04098361, -0.18677043]),\n",
       "             (7, 10, False): array([-0.54947917, -0.55707763]),\n",
       "             (7, 1, False): array([-0.66153846, -0.66398929]),\n",
       "             (6, 4, False): array([-0.20805369, -0.40459364]),\n",
       "             (4, 4, False): array([ 0.02222222, -0.22727273]),\n",
       "             (17, 8, True): array([-0.31707317, -0.23352166]),\n",
       "             (18, 7, True): array([ 0.43421053, -0.27958834]),\n",
       "             (8, 3, False): array([-0.17460317, -0.38624339]),\n",
       "             (9, 9, False): array([-0.60486322, -0.24873096]),\n",
       "             (20, 9, True): array([ 0.76132931, -0.07741935]),\n",
       "             (11, 6, False): array([-0.11627907, -0.02068966]),\n",
       "             (12, 9, True): array([-0.47169811, -0.12650602]),\n",
       "             (8, 9, False): array([-0.56223176, -0.47532729]),\n",
       "             (16, 7, True): array([-0.4159292 , -0.20666667]),\n",
       "             (6, 7, False): array([-0.53424658, -0.43438078]),\n",
       "             (9, 3, False): array([-0.21710526, -0.19934372]),\n",
       "             (13, 8, True): array([-0.5       , -0.19543147]),\n",
       "             (19, 8, True): array([ 0.61576355, -0.14723926]),\n",
       "             (15, 1, True): array([-0.77391304, -0.46683673]),\n",
       "             (14, 4, True): array([-0.4047619 , -0.12941176]),\n",
       "             (17, 4, True): array([-0.22556391, -0.30769231]),\n",
       "             (17, 1, True): array([-0.6122449 , -0.48897059]),\n",
       "             (20, 1, True): array([ 0.11433447, -0.34911243]),\n",
       "             (18, 5, True): array([ 0.11409396, -0.25694444]),\n",
       "             (4, 1, False): array([-0.73333333, -0.62643678]),\n",
       "             (17, 10, True): array([-0.41044776, -0.40571147]),\n",
       "             (16, 4, True): array([-0.25454545, -0.25494505]),\n",
       "             (6, 6, False): array([-0.1       , -0.32846715]),\n",
       "             (10, 6, False): array([-0.11560694, -0.08716216]),\n",
       "             (10, 7, False): array([-0.39622642, -0.05427975]),\n",
       "             (18, 8, True): array([ 0.08666667, -0.3344652 ]),\n",
       "             (15, 7, True): array([-0.44347826, -0.13763441]),\n",
       "             (9, 5, False): array([-0.12772586, -0.2005231 ]),\n",
       "             (21, 6, True): array([ 0.88595041, -0.0369515 ]),\n",
       "             (21, 3, True): array([ 0.88990826, -0.02320186]),\n",
       "             (5, 2, False): array([-0.35714286, -0.49171271]),\n",
       "             (19, 4, True): array([ 0.45016077, -0.11688312]),\n",
       "             (8, 8, False): array([-0.52191235, -0.42622951]),\n",
       "             (17, 7, True): array([-0.15503876, -0.19272727]),\n",
       "             (20, 2, True): array([ 0.6677686 , -0.22222222]),\n",
       "             (14, 5, True): array([-0.05050505, -0.09137056]),\n",
       "             (16, 1, True): array([-0.7962963 , -0.47085202]),\n",
       "             (21, 3, False): array([ 0.87807057, -1.        ]),\n",
       "             (20, 8, True): array([0.7768595, 0.0994152]),\n",
       "             (21, 8, True): array([ 0.93546512, -0.10788382]),\n",
       "             (13, 2, True): array([-0.33944954, -0.18393782]),\n",
       "             (21, 5, True): array([0.89032258, 0.00461894]),\n",
       "             (16, 3, True): array([-0.21649485, -0.23893805]),\n",
       "             (5, 9, False): array([-0.46835443, -0.496875  ]),\n",
       "             (19, 7, True): array([ 0.61865794, -0.1       ]),\n",
       "             (15, 9, True): array([-0.45454545, -0.26840855]),\n",
       "             (12, 3, True): array([-0.22727273, -0.21787709]),\n",
       "             (19, 9, True): array([ 0.27226891, -0.14379085]),\n",
       "             (9, 1, False): array([-0.76208178, -0.51732474]),\n",
       "             (7, 6, False): array([-0.08139535, -0.31147541]),\n",
       "             (12, 7, True): array([-0.63265306, -0.08374384]),\n",
       "             (12, 1, True): array([-0.85714286, -0.35294118]),\n",
       "             (16, 5, True): array([-0.31623932, -0.20645161]),\n",
       "             (5, 5, False): array([-0.25641026, -0.34173669]),\n",
       "             (5, 1, False): array([-0.58139535, -0.58583106]),\n",
       "             (13, 5, True): array([-0.16190476, -0.09322034]),\n",
       "             (6, 2, False): array([-0.25862069, -0.40398551]),\n",
       "             (8, 1, False): array([-0.71945701, -0.62345679]),\n",
       "             (14, 8, True): array([-0.61904762, -0.21686747]),\n",
       "             (14, 7, True): array([-0.56989247, -0.16853933]),\n",
       "             (15, 4, True): array([-0.28571429, -0.09839817]),\n",
       "             (14, 2, True): array([-0.35294118, -0.16202532]),\n",
       "             (9, 4, False): array([-0.37341772, -0.16474465]),\n",
       "             (13, 9, True): array([-0.62352941, -0.11315789]),\n",
       "             (17, 9, True): array([-0.37931034, -0.26205451]),\n",
       "             (13, 3, True): array([-0.33333333, -0.06157635]),\n",
       "             (7, 5, False): array([-0.04186047, -0.38519448]),\n",
       "             (4, 10, False): array([-0.51955307, -0.50262467]),\n",
       "             (12, 5, True): array([-0.02325581,  0.00540541]),\n",
       "             (12, 4, True): array([-0.18181818, -0.16853933]),\n",
       "             (18, 1, True): array([-0.32894737, -0.51595745]),\n",
       "             (15, 8, True): array([-0.49565217, -0.21296296]),\n",
       "             (12, 10, True): array([-0.55445545, -0.28436658]),\n",
       "             (13, 10, True): array([-0.56430446, -0.30612245]),\n",
       "             (10, 8, False): array([-0.54736842, -0.06185567]),\n",
       "             (12, 6, True): array([-0.15555556,  0.10344828]),\n",
       "             (4, 7, False): array([-0.38461538, -0.32820513]),\n",
       "             (18, 2, True): array([ 0.15441176, -0.25801012]),\n",
       "             (16, 8, True): array([-0.51219512, -0.20638298]),\n",
       "             (4, 5, False): array([-0.06666667, -0.325     ]),\n",
       "             (14, 1, True): array([-0.75238095, -0.46683047]),\n",
       "             (5, 7, False): array([-0.48      , -0.44502618]),\n",
       "             (16, 2, True): array([-0.35185185, -0.09333333]),\n",
       "             (18, 4, True): array([ 0.05228758, -0.35440932]),\n",
       "             (17, 2, True): array([-0.06766917, -0.29158111]),\n",
       "             (16, 9, True): array([-0.47457627, -0.25757576]),\n",
       "             (12, 2, True): array([-0.11111111, -0.16860465]),\n",
       "             (4, 3, False): array([-0.28301887, -0.28125   ]),\n",
       "             (4, 9, False): array([-0.58333333, -0.43386243]),\n",
       "             (4, 6, False): array([-0.26315789, -0.4368932 ]),\n",
       "             (4, 2, False): array([-0.44680851, -0.40372671]),\n",
       "             (14, 3, True): array([-0.14563107, -0.16666667]),\n",
       "             (12, 8, True): array([-0.74074074, -0.22580645])})"
      ]
     },
     "execution_count": 123,
     "metadata": {},
     "output_type": "execute_result"
    }
   ],
   "source": [
    "Q_table = evmc_q_table(500000,env,1)\n",
    "Q_table"
   ]
  },
  {
   "cell_type": "code",
   "execution_count": 124,
   "metadata": {},
   "outputs": [
    {
     "data": {
      "text/plain": [
       "280"
      ]
     },
     "execution_count": 124,
     "metadata": {},
     "output_type": "execute_result"
    }
   ],
   "source": [
    "len(list(Q_table.keys()))"
   ]
  },
  {
   "cell_type": "code",
   "execution_count": 13,
   "metadata": {},
   "outputs": [
    {
     "data": {
      "text/plain": [
       "array([[4., 5.],\n",
       "       [5., 5.]])"
      ]
     },
     "execution_count": 13,
     "metadata": {},
     "output_type": "execute_result"
    }
   ],
   "source": [
    "a1 = np.array([[20,10],[30,25]])\n",
    "a2 = np.array([[5,2],[6,5]])\n",
    "a3 = a1/a2\n",
    "\n",
    "a3"
   ]
  },
  {
   "cell_type": "code",
   "execution_count": null,
   "metadata": {},
   "outputs": [],
   "source": []
  }
 ],
 "metadata": {
  "kernelspec": {
   "display_name": "Python 3",
   "language": "python",
   "name": "python3"
  },
  "language_info": {
   "codemirror_mode": {
    "name": "ipython",
    "version": 3
   },
   "file_extension": ".py",
   "mimetype": "text/x-python",
   "name": "python",
   "nbconvert_exporter": "python",
   "pygments_lexer": "ipython3",
   "version": "3.6.8"
  }
 },
 "nbformat": 4,
 "nbformat_minor": 2
}
