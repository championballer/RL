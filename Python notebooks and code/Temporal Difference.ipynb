{
 "cells": [
  {
   "cell_type": "code",
   "execution_count": 1,
   "metadata": {},
   "outputs": [],
   "source": [
    "import sys\n",
    "import gym\n",
    "import numpy as np"
   ]
  },
  {
   "cell_type": "code",
   "execution_count": 2,
   "metadata": {},
   "outputs": [],
   "source": [
    "env = gym.make('CliffWalking-v0')"
   ]
  },
  {
   "cell_type": "code",
   "execution_count": 3,
   "metadata": {},
   "outputs": [
    {
     "data": {
      "text/plain": [
       "Discrete(4)"
      ]
     },
     "execution_count": 3,
     "metadata": {},
     "output_type": "execute_result"
    }
   ],
   "source": [
    "env.action_space"
   ]
  },
  {
   "cell_type": "code",
   "execution_count": 4,
   "metadata": {},
   "outputs": [
    {
     "data": {
      "text/plain": [
       "Discrete(48)"
      ]
     },
     "execution_count": 4,
     "metadata": {},
     "output_type": "execute_result"
    }
   ],
   "source": [
    "env.observation_space"
   ]
  },
  {
   "cell_type": "code",
   "execution_count": 5,
   "metadata": {},
   "outputs": [
    {
     "data": {
      "text/plain": [
       "44"
      ]
     },
     "execution_count": 5,
     "metadata": {},
     "output_type": "execute_result"
    }
   ],
   "source": [
    "env.observation_space.sample()"
   ]
  },
  {
   "cell_type": "code",
   "execution_count": 7,
   "metadata": {},
   "outputs": [
    {
     "name": "stdout",
     "output_type": "stream",
     "text": [
      "36\n",
      "-63140\n",
      "done\n",
      "\n",
      "36\n",
      "-74958\n",
      "done\n",
      "\n",
      "36\n",
      "-617\n",
      "done\n",
      "\n"
     ]
    }
   ],
   "source": [
    "#random policy\n",
    "\n",
    "for i in range(3):\n",
    "    state = env.reset()\n",
    "    total_reward = 0\n",
    "    print(state)\n",
    "    while True:\n",
    "        #print(state)\n",
    "        action = env.action_space.sample()\n",
    "        state, reward, done, info = env.step(action)\n",
    "        total_reward+=reward\n",
    "        if done:\n",
    "            print(total_reward)\n",
    "            print(\"done\\n\")\n",
    "            break"
   ]
  },
  {
   "cell_type": "code",
   "execution_count": 18,
   "metadata": {},
   "outputs": [],
   "source": [
    "def max_index(q_state):\n",
    "    max = 0\n",
    "    index = 0\n",
    "    \n",
    "    for i in range(len(q_state)):\n",
    "        if q_state[i]>max:\n",
    "            max = q_state[i]\n",
    "            index = i\n",
    "    return index"
   ]
  },
  {
   "cell_type": "code",
   "execution_count": 22,
   "metadata": {},
   "outputs": [],
   "source": [
    "def select_action(env,q,epsilon,state):\n",
    "    \n",
    "    iterable = q[state]\n",
    "    index = max_index(q[state])\n",
    "    probs = np.zeros(env.action_space.n)\n",
    "    probs[index] = (1-epsilon)+(epsilon/env.action_space.n)\n",
    "    for i in range(env.action_space.n):\n",
    "        if i!=index:\n",
    "            probs[i] = (epsilon/env.action_space.n)\n",
    "    action = np.random.choice(np.arange(env.action_space.n),p=probs)\n",
    "    return action"
   ]
  },
  {
   "cell_type": "code",
   "execution_count": 29,
   "metadata": {},
   "outputs": [],
   "source": [
    "def sarsa(env,num_episodes,alpha,gamma=1):\n",
    "    \n",
    "    q = {}\n",
    "    epsilon = 1\n",
    "    ten_perc = (num_episodes//10)\n",
    "    #Initialise q table\n",
    "    for i in range(env.observation_space.n):\n",
    "        q[i] = np.zeros(env.action_space.n)\n",
    "    \n",
    "    for episode_i in range(num_episodes):\n",
    "        state = env.reset()\n",
    "        action = select_action(env,q,epsilon,state)\n",
    "        while True:\n",
    "            new_state, reward, done, info = env.step(action)\n",
    "            new_action = select_action(env,q,epsilon,new_state)\n",
    "            d_reward = reward+gamma*q[new_state][new_action]\n",
    "            q[state][action] = q[state][action]+alpha*(d_reward-q[state][action])\n",
    "            state = new_state\n",
    "            action = new_action\n",
    "            if done:\n",
    "                break\n",
    "    return q"
   ]
  },
  {
   "cell_type": "code",
   "execution_count": 30,
   "metadata": {},
   "outputs": [],
   "source": [
    "q = sarsa(env,100,0.08)"
   ]
  },
  {
   "cell_type": "code",
   "execution_count": 31,
   "metadata": {},
   "outputs": [
    {
     "data": {
      "text/plain": [
       "{0: array([-4030.9708002 , -3959.23180278, -4055.69553633, -4004.97134872]),\n",
       " 1: array([-3971.04223073, -3906.0090288 , -4006.59722254, -4012.88223054]),\n",
       " 2: array([-3875.02919439, -3762.43777208, -3921.9743896 , -3971.21848032]),\n",
       " 3: array([-3780.89252286, -3466.32922367, -3771.973402  , -3930.24776297]),\n",
       " 4: array([-3548.66965101, -3160.89485613, -3580.70193759, -3732.51301232]),\n",
       " 5: array([-3171.73532339, -2948.92246287, -3292.97491049, -3492.11534953]),\n",
       " 6: array([-2839.75916332, -2235.49568862, -3037.08941713, -3239.21161377]),\n",
       " 7: array([-2335.49625807, -1909.73518902, -2517.91388416, -2811.56654234]),\n",
       " 8: array([-1948.99325245, -1431.50021801, -2329.41086051, -2417.55343326]),\n",
       " 9: array([-1329.19133808, -1011.09585918, -1829.43902985, -1844.13192458]),\n",
       " 10: array([ -972.88362964,  -618.06739345, -1089.66770141, -1427.1738822 ]),\n",
       " 11: array([-550.53813559, -577.47218398, -527.90134725, -840.86648725]),\n",
       " 12: array([-4002.40123022, -4035.27173797, -4136.58610493, -4060.99099727]),\n",
       " 13: array([-3984.46962192, -3977.14997742, -4149.76368064, -4046.53674193]),\n",
       " 14: array([-3883.28612783, -3824.42582254, -4134.28911987, -4020.81875848]),\n",
       " 15: array([-3747.04792213, -3552.98704673, -3945.91706843, -3947.64586089]),\n",
       " 16: array([-3539.27576677, -3231.23177344, -3833.61417555, -3797.18097895]),\n",
       " 17: array([-3070.80466635, -2976.87189128, -3662.01452903, -3617.94313876]),\n",
       " 18: array([-2785.17525147, -2702.28259773, -3302.01814043, -3226.115081  ]),\n",
       " 19: array([-2441.04725325, -2031.91875491, -3116.93100116, -3083.4696673 ]),\n",
       " 20: array([-1813.2883803 , -1771.68364053, -2714.17450981, -2580.72401797]),\n",
       " 21: array([-1357.86242183, -1116.93354406, -2229.50251047, -2133.76236059]),\n",
       " 22: array([-1091.81306362,  -687.64495966, -1234.22200765, -1465.49950668]),\n",
       " 23: array([ -471.42560742,  -646.61976733,  -633.48068543, -1063.27706571]),\n",
       " 24: array([-4051.1498631 , -4171.18909612, -4247.79560107, -4132.46624715]),\n",
       " 25: array([-4019.44507953, -4109.1762515 , -4327.3937148 , -4142.93760599]),\n",
       " 26: array([-3982.32690646, -3947.10772661, -4310.1032447 , -4149.86719928]),\n",
       " 27: array([-3834.12198753, -3813.43140656, -4323.22596532, -4128.50268852]),\n",
       " 28: array([-3560.16400554, -3538.63564971, -4316.58968186, -4061.16013972]),\n",
       " 29: array([-3278.72748781, -3640.5292781 , -4260.64079273, -3834.50326681]),\n",
       " 30: array([-2961.20611408, -3278.63565638, -4273.7757335 , -3488.52131815]),\n",
       " 31: array([-2473.63053787, -2625.54223074, -4225.49391704, -3389.3001803 ]),\n",
       " 32: array([-2142.98316054, -2587.37138883, -4078.16968882, -2893.54725782]),\n",
       " 33: array([-1502.91970023, -1969.30868011, -4094.86283238, -2590.138286  ]),\n",
       " 34: array([ -939.58453355,  -571.79541501, -3961.76299376, -2034.65498742]),\n",
       " 35: array([-5.49204766e+02, -7.72023191e+02, -9.99760788e-01, -1.88754834e+03]),\n",
       " 36: array([-4162.28660023, -4317.84510184, -4238.64951239, -4226.51692011]),\n",
       " 37: array([0., 0., 0., 0.]),\n",
       " 38: array([0., 0., 0., 0.]),\n",
       " 39: array([0., 0., 0., 0.]),\n",
       " 40: array([0., 0., 0., 0.]),\n",
       " 41: array([0., 0., 0., 0.]),\n",
       " 42: array([0., 0., 0., 0.]),\n",
       " 43: array([0., 0., 0., 0.]),\n",
       " 44: array([0., 0., 0., 0.]),\n",
       " 45: array([0., 0., 0., 0.]),\n",
       " 46: array([0., 0., 0., 0.]),\n",
       " 47: array([0., 0., 0., 0.])}"
      ]
     },
     "execution_count": 31,
     "metadata": {},
     "output_type": "execute_result"
    }
   ],
   "source": [
    "q"
   ]
  },
  {
   "cell_type": "code",
   "execution_count": null,
   "metadata": {},
   "outputs": [],
   "source": []
  }
 ],
 "metadata": {
  "kernelspec": {
   "display_name": "Python 3",
   "language": "python",
   "name": "python3"
  },
  "language_info": {
   "codemirror_mode": {
    "name": "ipython",
    "version": 3
   },
   "file_extension": ".py",
   "mimetype": "text/x-python",
   "name": "python",
   "nbconvert_exporter": "python",
   "pygments_lexer": "ipython3",
   "version": "3.6.8"
  }
 },
 "nbformat": 4,
 "nbformat_minor": 2
}
