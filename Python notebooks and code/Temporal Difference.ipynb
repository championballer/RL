{
 "cells": [
  {
   "cell_type": "code",
   "execution_count": 1,
   "metadata": {},
   "outputs": [],
   "source": [
    "import sys\n",
    "import gym\n",
    "import numpy as np"
   ]
  },
  {
   "cell_type": "code",
   "execution_count": 2,
   "metadata": {},
   "outputs": [],
   "source": [
    "env = gym.make('CliffWalking-v0')"
   ]
  },
  {
   "cell_type": "code",
   "execution_count": 3,
   "metadata": {},
   "outputs": [
    {
     "data": {
      "text/plain": [
       "Discrete(4)"
      ]
     },
     "execution_count": 3,
     "metadata": {},
     "output_type": "execute_result"
    }
   ],
   "source": [
    "env.action_space"
   ]
  },
  {
   "cell_type": "code",
   "execution_count": 4,
   "metadata": {},
   "outputs": [
    {
     "data": {
      "text/plain": [
       "Discrete(48)"
      ]
     },
     "execution_count": 4,
     "metadata": {},
     "output_type": "execute_result"
    }
   ],
   "source": [
    "env.observation_space"
   ]
  },
  {
   "cell_type": "code",
   "execution_count": 5,
   "metadata": {},
   "outputs": [
    {
     "data": {
      "text/plain": [
       "44"
      ]
     },
     "execution_count": 5,
     "metadata": {},
     "output_type": "execute_result"
    }
   ],
   "source": [
    "env.observation_space.sample()"
   ]
  },
  {
   "cell_type": "code",
   "execution_count": 7,
   "metadata": {},
   "outputs": [
    {
     "name": "stdout",
     "output_type": "stream",
     "text": [
      "36\n",
      "-63140\n",
      "done\n",
      "\n",
      "36\n",
      "-74958\n",
      "done\n",
      "\n",
      "36\n",
      "-617\n",
      "done\n",
      "\n"
     ]
    }
   ],
   "source": [
    "#random policy\n",
    "\n",
    "for i in range(3):\n",
    "    state = env.reset()\n",
    "    total_reward = 0\n",
    "    print(state)\n",
    "    while True:\n",
    "        #print(state)\n",
    "        action = env.action_space.sample()\n",
    "        state, reward, done, info = env.step(action)\n",
    "        total_reward+=reward\n",
    "        if done:\n",
    "            print(total_reward)\n",
    "            print(\"done\\n\")\n",
    "            break"
   ]
  },
  {
   "cell_type": "code",
   "execution_count": 18,
   "metadata": {},
   "outputs": [],
   "source": [
    "def max_index(q_state):\n",
    "    max = 0\n",
    "    index = 0\n",
    "    \n",
    "    for i in range(len(q_state)):\n",
    "        if q_state[i]>max:\n",
    "            max = q_state[i]\n",
    "            index = i\n",
    "    return index"
   ]
  },
  {
   "cell_type": "code",
   "execution_count": 22,
   "metadata": {},
   "outputs": [],
   "source": [
    "def select_action(env,q,epsilon,state):\n",
    "    \n",
    "    iterable = q[state]\n",
    "    index = max_index(q[state])\n",
    "    probs = np.zeros(env.action_space.n)\n",
    "    probs[index] = (1-epsilon)+(epsilon/env.action_space.n)\n",
    "    for i in range(env.action_space.n):\n",
    "        if i!=index:\n",
    "            probs[i] = (epsilon/env.action_space.n)\n",
    "    action = np.random.choice(np.arange(env.action_space.n),p=probs)\n",
    "    return action"
   ]
  },
  {
   "cell_type": "code",
   "execution_count": 34,
   "metadata": {},
   "outputs": [],
   "source": [
    "def sarsa(env,num_episodes,alpha,gamma=1):\n",
    "    \n",
    "    q = {}\n",
    "    epsilon = 1\n",
    "    ten_perc = (num_episodes//10)\n",
    "    #Initialise q table\n",
    "    for i in range(env.observation_space.n):\n",
    "        q[i] = np.zeros(env.action_space.n)\n",
    "    \n",
    "    for episode_i in range(num_episodes):\n",
    "        \n",
    "        if episode_i % 1 == 0:\n",
    "            print(\"\\rEpisode {}/{}\".format(episode_i, num_episodes), end=\"\")\n",
    "            sys.stdout.flush()\n",
    "        \n",
    "        state = env.reset()\n",
    "        action = select_action(env,q,epsilon,state)\n",
    "        while True:\n",
    "            new_state, reward, done, info = env.step(action)\n",
    "            new_action = select_action(env,q,epsilon,new_state)\n",
    "            d_reward = reward+gamma*q[new_state][new_action]\n",
    "            q[state][action] = q[state][action]+alpha*(d_reward-q[state][action])\n",
    "            state = new_state\n",
    "            action = new_action\n",
    "            if done:\n",
    "                break\n",
    "        if episode_i%ten_perc==0:\n",
    "            epsilon-=0.1\n",
    "    return q"
   ]
  },
  {
   "cell_type": "code",
   "execution_count": null,
   "metadata": {},
   "outputs": [
    {
     "name": "stdout",
     "output_type": "stream",
     "text": [
      "Episode 83/100"
     ]
    }
   ],
   "source": [
    "q = sarsa(env,100,0.08)"
   ]
  },
  {
   "cell_type": "code",
   "execution_count": null,
   "metadata": {},
   "outputs": [],
   "source": [
    "q"
   ]
  },
  {
   "cell_type": "code",
   "execution_count": null,
   "metadata": {},
   "outputs": [],
   "source": []
  }
 ],
 "metadata": {
  "kernelspec": {
   "display_name": "Python 3",
   "language": "python",
   "name": "python3"
  },
  "language_info": {
   "codemirror_mode": {
    "name": "ipython",
    "version": 3
   },
   "file_extension": ".py",
   "mimetype": "text/x-python",
   "name": "python",
   "nbconvert_exporter": "python",
   "pygments_lexer": "ipython3",
   "version": "3.6.8"
  }
 },
 "nbformat": 4,
 "nbformat_minor": 2
}
