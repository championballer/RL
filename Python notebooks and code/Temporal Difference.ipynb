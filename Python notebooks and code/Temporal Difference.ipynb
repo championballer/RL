{
 "cells": [
  {
   "cell_type": "code",
   "execution_count": 3,
   "metadata": {},
   "outputs": [],
   "source": [
    "import sys\n",
    "import gym\n",
    "import numpy as np"
   ]
  },
  {
   "cell_type": "code",
   "execution_count": 6,
   "metadata": {},
   "outputs": [],
   "source": [
    "env = gym.make('CliffWalking-v0')"
   ]
  },
  {
   "cell_type": "code",
   "execution_count": 7,
   "metadata": {},
   "outputs": [
    {
     "data": {
      "text/plain": [
       "Discrete(4)"
      ]
     },
     "execution_count": 7,
     "metadata": {},
     "output_type": "execute_result"
    }
   ],
   "source": [
    "env.action_space"
   ]
  },
  {
   "cell_type": "code",
   "execution_count": 8,
   "metadata": {},
   "outputs": [
    {
     "data": {
      "text/plain": [
       "Discrete(48)"
      ]
     },
     "execution_count": 8,
     "metadata": {},
     "output_type": "execute_result"
    }
   ],
   "source": [
    "env.observation_space"
   ]
  },
  {
   "cell_type": "code",
   "execution_count": 9,
   "metadata": {},
   "outputs": [
    {
     "data": {
      "text/plain": [
       "44"
      ]
     },
     "execution_count": 9,
     "metadata": {},
     "output_type": "execute_result"
    }
   ],
   "source": [
    "env.observation_space.sample()"
   ]
  },
  {
   "cell_type": "code",
   "execution_count": 16,
   "metadata": {},
   "outputs": [
    {
     "name": "stdout",
     "output_type": "stream",
     "text": [
      "36\n",
      "-21722\n",
      "done\n",
      "\n",
      "36\n",
      "-127941\n",
      "done\n",
      "\n",
      "36\n",
      "-87228\n",
      "done\n",
      "\n"
     ]
    }
   ],
   "source": [
    "#random policy\n",
    "\n",
    "for i in range(3):\n",
    "    state = env.reset()\n",
    "    total_reward = 0\n",
    "    print(state)\n",
    "    while True:\n",
    "        action = env.action_space.sample()\n",
    "        state, reward, done, info = env.step(action)\n",
    "        total_reward+=reward\n",
    "        if done:\n",
    "            print(total_reward)\n",
    "            print(\"done\\n\")\n",
    "            break"
   ]
  },
  {
   "cell_type": "code",
   "execution_count": 42,
   "metadata": {},
   "outputs": [],
   "source": [
    "def max_index(q_state):\n",
    "    max = 0\n",
    "    index = 0\n",
    "    \n",
    "    for i in range(len(q_state)):\n",
    "        if q_state[i]>max:\n",
    "            max = q_state[i]\n",
    "            index = i\n",
    "    return index"
   ]
  },
  {
   "cell_type": "code",
   "execution_count": 58,
   "metadata": {},
   "outputs": [],
   "source": [
    "def sarsa(env,num_episodes,alpha,gamma=1):\n",
    "    \n",
    "    q = {}\n",
    "    epsilon = 0.6\n",
    "    nA = env.action_space.n\n",
    "    #ten_per = num_episodes//10\n",
    "    for episode_i in range(num_episodes):\n",
    "        probs = np.zeros(env.action_space.n)\n",
    "        state = env.reset()\n",
    "        #print(probs,state)\n",
    "        if state not in q:\n",
    "            q[state] = np.zeros(env.action_space.n)\n",
    "            action = env.action_space.sample()\n",
    "        else:\n",
    "            index = max_index(q[state])\n",
    "            probs[index] = (1-epsilon)+(epsilon/nA)\n",
    "            for j in range(nA):\n",
    "                if j==index:\n",
    "                    continue\n",
    "                else:\n",
    "                    probs[j] = epsilon/nA\n",
    "            #print(probs)\n",
    "            action = np.random.choice(np.arange(nA),p=probs)\n",
    "        while True:\n",
    "            new_state,reward,done,info = env.step(action)\n",
    "            #print(new_state,reward)\n",
    "            if new_state not in q:\n",
    "                q[new_state] = np.zeros(env.action_space.n)\n",
    "                new_action = env.action_space.sample()\n",
    "                #print(new_action)\n",
    "            else:\n",
    "                index = max_index(q[state])\n",
    "                probs[index] = (1-epsilon)+epsilon/nA\n",
    "                #print(probs)\n",
    "                for j in range(nA):\n",
    "                    if j==index:\n",
    "                        continue\n",
    "                    else:\n",
    "                        probs[j] = epsilon/nA\n",
    "                #print(probs)\n",
    "                new_action = np.random.choice(np.arange(nA),p=probs)\n",
    "            g = reward+gamma*q[new_state][new_action]\n",
    "            q[state][action] = q[state][action]+alpha*g\n",
    "            state = new_state\n",
    "            action = new_action\n",
    "            if done:\n",
    "                break\n",
    "    return q"
   ]
  },
  {
   "cell_type": "code",
   "execution_count": 61,
   "metadata": {},
   "outputs": [
    {
     "name": "stderr",
     "output_type": "stream",
     "text": [
      "/anaconda3/lib/python3.6/site-packages/ipykernel_launcher.py:43: RuntimeWarning: overflow encountered in double_scalars\n"
     ]
    },
    {
     "data": {
      "text/plain": [
       "{36: array([-inf, -inf, -inf, -inf]),\n",
       " 24: array([-inf, -inf, -inf, -inf]),\n",
       " 12: array([-inf, -inf, -inf, -inf]),\n",
       " 0: array([-inf, -inf, -inf, -inf]),\n",
       " 1: array([-inf, -inf, -inf, -inf]),\n",
       " 2: array([-inf, -inf, -inf, -inf]),\n",
       " 13: array([-inf, -inf, -inf, -inf]),\n",
       " 14: array([-inf, -inf, -inf, -inf]),\n",
       " 15: array([-inf, -inf, -inf, -inf]),\n",
       " 16: array([-inf, -inf, -inf, -inf]),\n",
       " 4: array([-inf, -inf, -inf, -inf]),\n",
       " 3: array([-inf, -inf, -inf, -inf]),\n",
       " 27: array([-inf, -inf, -inf, -inf]),\n",
       " 26: array([-inf, -inf, -inf, -inf]),\n",
       " 25: array([-inf, -inf, -inf, -inf]),\n",
       " 28: array([-inf, -inf, -inf, -inf]),\n",
       " 5: array([-inf, -inf, -inf, -inf]),\n",
       " 6: array([-inf, -inf, -inf, -inf]),\n",
       " 7: array([-inf, -inf, -inf, -inf]),\n",
       " 17: array([-inf, -inf, -inf, -inf]),\n",
       " 18: array([-inf, -inf, -inf, -inf]),\n",
       " 30: array([-inf, -inf, -inf, -inf]),\n",
       " 29: array([-inf, -inf, -inf, -inf]),\n",
       " 19: array([-inf, -inf, -inf, -inf]),\n",
       " 20: array([-inf, -inf, -inf, -inf]),\n",
       " 21: array([-inf, -inf, -inf, -inf]),\n",
       " 33: array([-inf, -inf, -inf, -inf]),\n",
       " 8: array([-inf, -inf, -inf, -inf]),\n",
       " 31: array([-inf, -inf, -inf, -inf]),\n",
       " 32: array([-inf, -inf, -inf, -inf]),\n",
       " 9: array([-inf, -inf, -inf, -inf]),\n",
       " 10: array([-inf, -inf, -inf, -inf]),\n",
       " 11: array([-inf, -inf, -inf, -inf]),\n",
       " 23: array([-inf, -inf, -inf, -inf]),\n",
       " 22: array([-inf, -inf, -inf, -inf]),\n",
       " 35: array([-inf, -inf, -80., -inf]),\n",
       " 34: array([-inf, -inf, -inf, -inf]),\n",
       " 47: array([0., 0., 0., 0.])}"
      ]
     },
     "execution_count": 61,
     "metadata": {},
     "output_type": "execute_result"
    }
   ],
   "source": [
    "sarsa(env,100,0.8)"
   ]
  },
  {
   "cell_type": "code",
   "execution_count": null,
   "metadata": {},
   "outputs": [],
   "source": []
  }
 ],
 "metadata": {
  "kernelspec": {
   "display_name": "Python 3",
   "language": "python",
   "name": "python3"
  },
  "language_info": {
   "codemirror_mode": {
    "name": "ipython",
    "version": 3
   },
   "file_extension": ".py",
   "mimetype": "text/x-python",
   "name": "python",
   "nbconvert_exporter": "python",
   "pygments_lexer": "ipython3",
   "version": "3.6.8"
  }
 },
 "nbformat": 4,
 "nbformat_minor": 2
}
