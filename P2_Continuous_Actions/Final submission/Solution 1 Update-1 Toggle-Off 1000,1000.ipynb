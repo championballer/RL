{
 "cells": [
  {
   "cell_type": "code",
   "execution_count": 1,
   "metadata": {},
   "outputs": [],
   "source": [
    "#Importing unityEnvironment work simulation to be done here along with numpy\n",
    "\n",
    "from unityagents import UnityEnvironment\n",
    "import numpy as np"
   ]
  },
  {
   "cell_type": "code",
   "execution_count": 2,
   "metadata": {},
   "outputs": [
    {
     "name": "stderr",
     "output_type": "stream",
     "text": [
      "INFO:unityagents:\n",
      "'Academy' started successfully!\n",
      "Unity Academy name: Academy\n",
      "        Number of Brains: 1\n",
      "        Number of External Brains : 1\n",
      "        Lesson number : 0\n",
      "        Reset Parameters :\n",
      "\t\tgoal_speed -> 1.0\n",
      "\t\tgoal_size -> 5.0\n",
      "Unity brain name: ReacherBrain\n",
      "        Number of Visual Observations (per agent): 0\n",
      "        Vector Observation space type: continuous\n",
      "        Vector Observation space size (per agent): 33\n",
      "        Number of stacked Vector Observation: 1\n",
      "        Vector Action space type: continuous\n",
      "        Vector Action space size (per agent): 4\n",
      "        Vector Action descriptions: , , , \n"
     ]
    }
   ],
   "source": [
    "#Loading Unity Environment with the downloaded environment app files\n",
    "\n",
    "env = UnityEnvironment(file_name='../Reacher.app')"
   ]
  },
  {
   "cell_type": "code",
   "execution_count": 3,
   "metadata": {},
   "outputs": [
    {
     "data": {
      "text/plain": [
       "('ReacherBrain', <unityagents.brain.BrainParameters at 0x12051cf60>)"
      ]
     },
     "execution_count": 3,
     "metadata": {},
     "output_type": "execute_result"
    }
   ],
   "source": [
    "brain_name = env.brain_names[0]\n",
    "brain = env.brains[brain_name]\n",
    "\n",
    "brain_name, brain"
   ]
  },
  {
   "cell_type": "code",
   "execution_count": 4,
   "metadata": {},
   "outputs": [
    {
     "data": {
      "text/plain": [
       "(20, 4, 33)"
      ]
     },
     "execution_count": 4,
     "metadata": {},
     "output_type": "execute_result"
    }
   ],
   "source": [
    "env_info = env.reset(train_mode=True)[brain_name]\n",
    "num_agents = len(env_info.agents)\n",
    "action_size = brain.vector_action_space_size\n",
    "num_states = len(env_info.vector_observations[0])\n",
    "\n",
    "num_agents,action_size,num_states"
   ]
  },
  {
   "cell_type": "code",
   "execution_count": 5,
   "metadata": {},
   "outputs": [
    {
     "data": {
      "text/plain": [
       "<ddpg_agent.Agent at 0x120535400>"
      ]
     },
     "execution_count": 5,
     "metadata": {},
     "output_type": "execute_result"
    }
   ],
   "source": [
    "from ddpg_agent import Agent\n",
    "\n",
    "agent = Agent(num_states, action_size,0,num_agents)\n",
    "agent"
   ]
  },
  {
   "cell_type": "code",
   "execution_count": 6,
   "metadata": {},
   "outputs": [],
   "source": [
    "import random\n",
    "import torch\n",
    "from collections import deque\n",
    "import matplotlib.pyplot as plt\n",
    "%matplotlib inline"
   ]
  },
  {
   "cell_type": "code",
   "execution_count": 7,
   "metadata": {},
   "outputs": [
    {
     "name": "stderr",
     "output_type": "stream",
     "text": [
      "/Users/championballer/Documents/RL/P2_Continuous_Actions/Final submission/ddpg_agent.py:126: UserWarning: torch.nn.utils.clip_grad_norm is now deprecated in favor of torch.nn.utils.clip_grad_norm_.\n",
      "  torch.nn.utils.clip_grad_norm(self.critic_local.parameters(),1)\n"
     ]
    },
    {
     "name": "stdout",
     "output_type": "stream",
     "text": [
      "Episode 125\tAverage Score: 30.30\n",
      "Environment solved in 125 episodes!\tAverage Score: 30.30\n"
     ]
    },
    {
     "data": {
      "image/png": "[encoded data removed]",
      "text/plain": [
       "<Figure size 432x288 with 1 Axes>"
      ]
     },
     "metadata": {
      "needs_background": "light"
     },
     "output_type": "display_data"
    }
   ],
   "source": [
    "update_num = 1\n",
    "\n",
    "def ddpg(n_episodes=1000,max_t=1000,print_every=100,toggle=False):\n",
    "    \n",
    "    #To keep track of the most recent scores for the environment\n",
    "    scores_deque = deque(maxlen=print_every)\n",
    "    \n",
    "    #To keep track of all scores from the environment\n",
    "    scores = []\n",
    "    \n",
    "    #Epsilon values\n",
    "    epsilon = 1\n",
    "    epsilon_end = 0.05\n",
    "    epsilon_decay = 1e-4\n",
    "    \n",
    "    #Learning from num_episodes using experience replay\n",
    "    for i_episode in range(1, n_episodes+1):\n",
    "        env_info = env.reset(train_mode=True)[brain_name]\n",
    "        states = env_info.vector_observations\n",
    "        \n",
    "        #To reset noise for the episode\n",
    "        agent.reset()\n",
    "        to_update=1\n",
    "        score = np.zeros(num_agents)\n",
    "        \n",
    "        for t in range(max_t):\n",
    "            \n",
    "            #Will return an array of actions that according to the policy are optimal, using the actor network\n",
    "            actions = agent.act(states,epsilon)\n",
    "            \n",
    "            #Taking one step for each agent using the above obtained array of actions \n",
    "            env_info = env.step(actions)[brain_name]\n",
    "            next_states = env_info.vector_observations\n",
    "            rewards = env_info.rewards\n",
    "            dones = env_info.local_done\n",
    "            \n",
    "            \"\"\"\n",
    "            Taking a step with the current set of states and actions which will be put to the \n",
    "            experience replay memory, and if the memory reaches a specific limit then the learning \n",
    "            will happen accordingly.\n",
    "            \"\"\"\n",
    "            \n",
    "            agent.step(states, actions, rewards, next_states, dones)\n",
    "            \n",
    "#             #Update networks every alternate step\n",
    "#             if to_update:\n",
    "#                 agent.update()\n",
    "                \n",
    "#             to_update = (to_update+1)%2\n",
    "\n",
    "            for i in range(update_num):\n",
    "                if to_update:\n",
    "                    agent.update()\n",
    "            \n",
    "            if toggle:\n",
    "                    to_update = (to_update+1)%2\n",
    "                    \n",
    "            #Preparing agent for next step\n",
    "            states = next_states\n",
    "            score += rewards\n",
    "            \n",
    "            #if any agent is done with their respective episode, then break\n",
    "            if np.any(dones):\n",
    "                break\n",
    "        \n",
    "        #Update epsilon\n",
    "        epsilon = max(epsilon-epsilon_decay,epsilon_end)\n",
    "        \n",
    "        #Append mean of scores for all agents to the score arrays\n",
    "        scores_deque.append(np.mean(score))\n",
    "        scores.append(np.mean(score))\n",
    "        \n",
    "        #Print average score after each episode\n",
    "        print('\\rEpisode {}\\tAverage Score: {:.2f}'.format(i_episode, np.mean(scores_deque)), end=\"\")\n",
    "        \n",
    "        if np.mean(scores_deque)>=30.:\n",
    "            print('\\nEnvironment solved in {:d} episodes!\\tAverage Score: {:.2f}'.\n",
    "                  format(i_episode, np.mean(scores_deque)))\n",
    "            torch.save(agent.actor_local.state_dict(), 'checkpoint_actor.pth')\n",
    "            torch.save(agent.critic_local.state_dict(), 'checkpoint_critic.pth')\n",
    "            break\n",
    "    return scores\n",
    "    \n",
    "\n",
    "scores = ddpg()\n",
    "\n",
    "#Plotting the graph with the mean scores\n",
    "fig = plt.figure()\n",
    "ax = fig.add_subplot(111)\n",
    "plt.plot(np.arange(1, len(scores)+1), scores)\n",
    "plt.ylabel('Score')\n",
    "plt.xlabel('Episode #')\n",
    "plt.show()"
   ]
  },
  {
   "cell_type": "code",
   "execution_count": null,
   "metadata": {},
   "outputs": [],
   "source": []
  }
 ],
 "metadata": {
  "kernelspec": {
   "display_name": "Python 3",
   "language": "python",
   "name": "python3"
  },
  "language_info": {
   "codemirror_mode": {
    "name": "ipython",
    "version": 3
   },
   "file_extension": ".py",
   "mimetype": "text/x-python",
   "name": "python",
   "nbconvert_exporter": "python",
   "pygments_lexer": "ipython3",
   "version": "3.6.8"
  }
 },
 "nbformat": 4,
 "nbformat_minor": 2
}
