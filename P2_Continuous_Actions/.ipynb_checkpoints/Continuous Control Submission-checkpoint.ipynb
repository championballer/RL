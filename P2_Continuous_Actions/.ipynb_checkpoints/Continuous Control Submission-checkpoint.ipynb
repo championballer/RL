{
 "cells": [
  {
   "cell_type": "code",
   "execution_count": 1,
   "metadata": {},
   "outputs": [],
   "source": [
    "#Importing unityEnvironment work simulation to be done here along with numpy\n",
    "\n",
    "from unityagents import UnityEnvironment\n",
    "import numpy as np"
   ]
  },
  {
   "cell_type": "code",
   "execution_count": 2,
   "metadata": {},
   "outputs": [
    {
     "name": "stderr",
     "output_type": "stream",
     "text": [
      "INFO:unityagents:\n",
      "'Academy' started successfully!\n",
      "Unity Academy name: Academy\n",
      "        Number of Brains: 1\n",
      "        Number of External Brains : 1\n",
      "        Lesson number : 0\n",
      "        Reset Parameters :\n",
      "\t\tgoal_size -> 5.0\n",
      "\t\tgoal_speed -> 1.0\n",
      "Unity brain name: ReacherBrain\n",
      "        Number of Visual Observations (per agent): 0\n",
      "        Vector Observation space type: continuous\n",
      "        Vector Observation space size (per agent): 33\n",
      "        Number of stacked Vector Observation: 1\n",
      "        Vector Action space type: continuous\n",
      "        Vector Action space size (per agent): 4\n",
      "        Vector Action descriptions: , , , \n"
     ]
    }
   ],
   "source": [
    "#Loading Unity Environment with the downloaded environment app files\n",
    "\n",
    "env = UnityEnvironment(file_name='Reacher.app')"
   ]
  },
  {
   "cell_type": "code",
   "execution_count": 3,
   "metadata": {},
   "outputs": [
    {
     "data": {
      "text/plain": [
       "('ReacherBrain', <unityagents.brain.BrainParameters at 0x11f5aafd0>)"
      ]
     },
     "execution_count": 3,
     "metadata": {},
     "output_type": "execute_result"
    }
   ],
   "source": [
    "brain_name = env.brain_names[0]\n",
    "brain = env.brains[brain_name]\n",
    "\n",
    "brain_name, brain"
   ]
  },
  {
   "cell_type": "code",
   "execution_count": 4,
   "metadata": {},
   "outputs": [
    {
     "data": {
      "text/plain": [
       "(20, 4, 33)"
      ]
     },
     "execution_count": 4,
     "metadata": {},
     "output_type": "execute_result"
    }
   ],
   "source": [
    "env_info = env.reset(train_mode=True)[brain_name]\n",
    "num_agents = len(env_info.agents)\n",
    "action_size = brain.vector_action_space_size\n",
    "num_states = len(env_info.vector_observations[0])\n",
    "\n",
    "num_agents,action_size,num_states"
   ]
  },
  {
   "cell_type": "code",
   "execution_count": 5,
   "metadata": {},
   "outputs": [
    {
     "data": {
      "text/plain": [
       "<ddpg_agent.Agent at 0x11f5bc438>"
      ]
     },
     "execution_count": 5,
     "metadata": {},
     "output_type": "execute_result"
    }
   ],
   "source": [
    "from ddpg_agent import Agent\n",
    "\n",
    "agent = Agent(num_states, action_size,num_agents,0)\n",
    "agent"
   ]
  },
  {
   "cell_type": "code",
   "execution_count": 6,
   "metadata": {},
   "outputs": [
    {
     "data": {
      "text/plain": [
       "array([ 1,  2,  2,  2,  1,  0,  2, -1])"
      ]
     },
     "execution_count": 6,
     "metadata": {},
     "output_type": "execute_result"
    }
   ],
   "source": [
    "a = np.array([1,2,3,5,1,0,4,-1])\n",
    "\n",
    "np.clip(a,-1,2)"
   ]
  },
  {
   "cell_type": "code",
   "execution_count": 7,
   "metadata": {},
   "outputs": [],
   "source": [
    "from unityagents import UnityEnvironment\n",
    "import random\n",
    "import torch\n",
    "import numpy as np\n",
    "from collections import deque\n",
    "import matplotlib.pyplot as plt\n",
    "%matplotlib inline"
   ]
  },
  {
   "cell_type": "code",
   "execution_count": 10,
   "metadata": {},
   "outputs": [
    {
     "name": "stdout",
     "output_type": "stream",
     "text": [
      "state: [ 0.00000000e+00 -4.00000000e+00  0.00000000e+00  1.00000000e+00\n",
      " -0.00000000e+00 -0.00000000e+00 -4.37113883e-08  0.00000000e+00\n",
      "  0.00000000e+00  0.00000000e+00  0.00000000e+00  0.00000000e+00\n",
      "  0.00000000e+00  0.00000000e+00 -1.00000000e+01  0.00000000e+00\n",
      "  1.00000000e+00 -0.00000000e+00 -0.00000000e+00 -4.37113883e-08\n",
      "  0.00000000e+00  0.00000000e+00  0.00000000e+00  0.00000000e+00\n",
      "  0.00000000e+00  0.00000000e+00  7.90150833e+00 -1.00000000e+00\n",
      "  1.25147629e+00  0.00000000e+00  1.00000000e+00  0.00000000e+00\n",
      " -1.29508138e-01]\n",
      "action: [0.08314814 0.11663809 0.21372376 0.14108542]\n",
      "reward: 0.0\n",
      "next_state: [-6.17218018e-03 -3.99996281e+00  1.76734924e-02  9.99997318e-01\n",
      " -7.67654157e-04  1.41970236e-06  2.19832221e-03 -8.75571966e-02\n",
      " -8.07682518e-05 -3.05377375e-02 -1.22762188e-01  1.04466337e-03\n",
      "  3.51978570e-01  5.98526001e-03 -9.99975777e+00 -2.70462036e-03\n",
      "  9.99980509e-01  2.79368320e-03  2.30818059e-05 -5.59500977e-03\n",
      "  2.23137870e-01 -1.32509426e-03  1.11418501e-01  2.81972885e-01\n",
      "  1.01785017e-02 -3.79289091e-01  7.88986969e+00 -1.00000000e+00\n",
      "  1.32286453e+00  0.00000000e+00  1.00000000e+00  0.00000000e+00\n",
      " -1.29508138e-01]\n",
      "done: False\n",
      "\n",
      "state: [ 0.00000000e+00 -4.00000000e+00  0.00000000e+00  1.00000000e+00\n",
      " -0.00000000e+00 -0.00000000e+00 -4.37113883e-08  0.00000000e+00\n",
      "  0.00000000e+00  0.00000000e+00  0.00000000e+00  0.00000000e+00\n",
      "  0.00000000e+00  0.00000000e+00 -1.00000000e+01  0.00000000e+00\n",
      "  1.00000000e+00 -0.00000000e+00 -0.00000000e+00 -4.37113883e-08\n",
      "  0.00000000e+00  0.00000000e+00  0.00000000e+00  0.00000000e+00\n",
      "  0.00000000e+00  0.00000000e+00  1.38918686e+00 -1.00000000e+00\n",
      "  7.87846375e+00  0.00000000e+00  1.00000000e+00  0.00000000e+00\n",
      "  7.61166334e-01]\n",
      "action: [0.08625653 0.11912163 0.2144156  0.14049193]\n",
      "reward: 0.0\n",
      "next_state: [-5.88226318e-03 -3.99996448e+00  1.74751282e-02  9.99997377e-01\n",
      " -7.31565757e-04  1.33825756e-06  2.17368640e-03 -8.65862146e-02\n",
      " -7.61068004e-05 -2.90975142e-02 -1.16972469e-01  1.01341680e-03\n",
      "  3.48075330e-01  6.15692139e-03 -9.99976349e+00 -2.91061401e-03\n",
      "  9.99980807e-01  2.73872726e-03  2.22419367e-05 -5.57126943e-03\n",
      "  2.22208261e-01 -1.27712940e-03  1.09225377e-01  2.82312572e-01\n",
      "  1.00027137e-02 -3.81965518e-01  1.80568314e+00 -1.00000000e+00\n",
      "  7.79355621e+00  0.00000000e+00  1.00000000e+00  0.00000000e+00\n",
      "  7.61166334e-01]\n",
      "done: False\n",
      "\n",
      "state: [ 0.00000000e+00 -4.00000000e+00  0.00000000e+00  1.00000000e+00\n",
      " -0.00000000e+00 -0.00000000e+00 -4.37113883e-08  0.00000000e+00\n",
      "  0.00000000e+00  0.00000000e+00  0.00000000e+00  0.00000000e+00\n",
      "  0.00000000e+00  0.00000000e+00 -1.00000000e+01  0.00000000e+00\n",
      "  1.00000000e+00 -0.00000000e+00 -0.00000000e+00 -4.37113883e-08\n",
      "  0.00000000e+00  0.00000000e+00  0.00000000e+00  0.00000000e+00\n",
      "  0.00000000e+00  0.00000000e+00 -7.98903656e+00 -1.00000000e+00\n",
      "  4.18689728e-01  0.00000000e+00  1.00000000e+00  0.00000000e+00\n",
      "  3.54782343e-02]\n",
      "action: [0.08116049 0.12188268 0.21480154 0.1445115 ]\n",
      "reward: 0.0\n",
      "next_state: [-6.10733032e-03 -3.99996185e+00  1.79748535e-02  9.99997199e-01\n",
      " -7.59984599e-04  1.42967235e-06  2.23564613e-03 -8.90604258e-02\n",
      " -8.12768922e-05 -3.02164871e-02 -1.21470772e-01  1.07439863e-03\n",
      "  3.58021468e-01  6.29425049e-03 -9.99975204e+00 -2.55966187e-03\n",
      "  9.99980032e-01  2.82698823e-03  2.34148119e-05 -5.65811247e-03\n",
      "  2.25659758e-01 -1.34414912e-03  1.12728082e-01  2.90062308e-01\n",
      "  1.04222083e-02 -3.79969269e-01 -7.98797607e+00 -1.00000000e+00\n",
      "  4.38482285e-01  0.00000000e+00  1.00000000e+00  0.00000000e+00\n",
      "  3.54782343e-02]\n",
      "done: False\n",
      "\n",
      "state: [ 0.00000000e+00 -4.00000000e+00  0.00000000e+00  1.00000000e+00\n",
      " -0.00000000e+00 -0.00000000e+00 -4.37113883e-08  0.00000000e+00\n",
      "  0.00000000e+00  0.00000000e+00  0.00000000e+00  0.00000000e+00\n",
      "  0.00000000e+00  0.00000000e+00 -1.00000000e+01  0.00000000e+00\n",
      "  1.00000000e+00 -0.00000000e+00 -0.00000000e+00 -4.37113883e-08\n",
      "  0.00000000e+00  0.00000000e+00  0.00000000e+00  0.00000000e+00\n",
      "  0.00000000e+00  0.00000000e+00  2.47213554e+00 -1.00000000e+00\n",
      "  7.60845232e+00  0.00000000e+00  1.00000000e+00  0.00000000e+00\n",
      "  4.68097657e-01]\n",
      "action: [0.08608206 0.11921591 0.21470852 0.1402492 ]\n",
      "reward: 0.0\n",
      "next_state: [-5.84411621e-03 -3.99996448e+00  1.75260343e-02  9.99997377e-01\n",
      " -7.26797618e-04  1.33327831e-06  2.17985781e-03 -8.68337154e-02\n",
      " -7.58449678e-05 -2.89137922e-02 -1.16233915e-01  1.01739971e-03\n",
      "  3.49070251e-01  6.17218018e-03 -9.99976254e+00 -2.89501064e-03\n",
      "  9.99980688e-01  2.72935815e-03  2.21853752e-05 -5.58340037e-03\n",
      "  2.22681835e-01 -1.27397210e-03  1.08860470e-01  2.81976879e-01\n",
      "  1.00277672e-02 -3.82337838e-01  2.71941185e+00 -1.00000000e+00\n",
      "  7.52361631e+00  0.00000000e+00  1.00000000e+00  0.00000000e+00\n",
      "  4.68097657e-01]\n",
      "done: False\n",
      "\n"
     ]
    }
   ],
   "source": [
    "def ddpg(n_episodes=1000,max_t=500,print_every=100):\n",
    "    \n",
    "    #To keep track of the most recent scores for the environment\n",
    "    scores_deque = deque(maxlen=print_every)\n",
    "    \n",
    "    #To keep track of all scores from the environment\n",
    "    scores = []\n",
    "    \n",
    "    #Learning from num_episodes using experience replay\n",
    "    for i_episode in range(1, n_episodes+1):\n",
    "        env_info = env.reset(train_mode=True)[brain_name]\n",
    "        states = env_info.vector_observations\n",
    "        \n",
    "        #To reset noise for the episode\n",
    "        agent.reset()\n",
    "        \n",
    "        score = np.zeros(num_agents)\n",
    "        \n",
    "        for t in range(max_t):\n",
    "            \n",
    "            #Will return an array of actions that according to the policy are optimal, using the actor network\n",
    "            actions = agent.act(states)\n",
    "            \n",
    "            #Taking one step for each agent using the above obtained array of actions \n",
    "            env_info = env.step(actions)[brain_name]\n",
    "            next_states = env_info.vector_observations\n",
    "            rewards = env_info.rewards\n",
    "            dones = env_info.local_done\n",
    "            agent.step(states, actions, rewards, next_states, dones)\n",
    "        break\n",
    "\n",
    "ddpg()"
   ]
  },
  {
   "cell_type": "code",
   "execution_count": null,
   "metadata": {},
   "outputs": [],
   "source": []
  }
 ],
 "metadata": {
  "kernelspec": {
   "display_name": "Python 3",
   "language": "python",
   "name": "python3"
  },
  "language_info": {
   "codemirror_mode": {
    "name": "ipython",
    "version": 3
   },
   "file_extension": ".py",
   "mimetype": "text/x-python",
   "name": "python",
   "nbconvert_exporter": "python",
   "pygments_lexer": "ipython3",
   "version": "3.6.8"
  }
 },
 "nbformat": 4,
 "nbformat_minor": 2
}
